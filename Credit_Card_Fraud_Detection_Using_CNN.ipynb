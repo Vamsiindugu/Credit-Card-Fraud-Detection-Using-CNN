{
 "cells": [
  {
   "cell_type": "markdown",
   "metadata": {},
   "source": [
    "# Importing libraries and Dataset #"
   ]
  },
  {
   "cell_type": "code",
   "execution_count": 1,
   "metadata": {},
   "outputs": [],
   "source": [
    "import numpy as np\n",
    "import pandas as pd\n",
    "import seaborn as sns\n",
    "import tensorflow as tf\n",
    "import matplotlib.pyplot as plt"
   ]
  },
  {
   "cell_type": "code",
   "execution_count": 2,
   "metadata": {},
   "outputs": [],
   "source": [
    "data = pd.read_csv("creditcard.csv")"
   ]
  },
  {
   "cell_type": "markdown",
   "metadata": {},
   "source": [
    "# Enabling Dataset to visualize max columns #"
   ]
  },
  {
   "cell_type": "code",
   "execution_count": 3,
   "metadata": {},
   "outputs": [],
   "source": [
    "pd.options.display.max_columns = None"
   ]
  },
  {
   "cell_type": "markdown",
   "metadata": {},
   "source": [
    "# 1. Display top rows and bottom rows using head and tail functions on dataset #"
   ]
  },
  {
   "cell_type": "code",
   "execution_count": 4,
   "metadata": {},
   "outputs": [
    {
     "data": {
      "text/html": [
       "<div>\n",
       "<style scoped>\n",
       "    .dataframe tbody tr th:only-of-type {\n",
       "        vertical-align: middle;\n",
       "    }\n",
       "\n",
       "    .dataframe tbody tr th {\n",
       "        vertical-align: top;\n",
       "    }\n",
       "\n",
       "    .dataframe thead th {\n",
       "        text-align: right;\n",
       "    }\n",
       "</style>\n",
       "<table border=\"1\" class=\"dataframe\">\n",
       "  <thead>\n",
       "    <tr style=\"text-align: right;\">\n",
       "      <th></th>\n",
       "      <th>Time</th>\n",
       "      <th>V1</th>\n",
       "      <th>V2</th>\n",
       "      <th>V3</th>\n",
       "      <th>V4</th>\n",
       "      <th>V5</th>\n",
       "      <th>V6</th>\n",
       "      <th>V7</th>\n",
       "      <th>V8</th>\n",
       "      <th>V9</th>\n",
       "      <th>V10</th>\n",
       "      <th>V11</th>\n",
       "      <th>V12</th>\n",
       "      <th>V13</th>\n",
       "      <th>V14</th>\n",
       "      <th>V15</th>\n",
       "      <th>V16</th>\n",
       "      <th>V17</th>\n",
       "      <th>V18</th>\n",
       "      <th>V19</th>\n",
       "      <th>V20</th>\n",
       "      <th>V21</th>\n",
       "      <th>V22</th>\n",
       "      <th>V23</th>\n",
       "      <th>V24</th>\n",
       "      <th>V25</th>\n",
       "      <th>V26</th>\n",
       "      <th>V27</th>\n",
       "      <th>V28</th>\n",
       "      <th>Amount</th>\n",
       "      <th>Class</th>\n",
       "    </tr>\n",
       "  </thead>\n",
       "  <tbody>\n",
       "    <tr>\n",
       "      <th>284802</th>\n",
       "      <td>172786.0</td>\n",
       "      <td>-11.881118</td>\n",
       "      <td>10.071785</td>\n",
       "      <td>-9.834783</td>\n",
       "      <td>-2.066656</td>\n",
       "      <td>-5.364473</td>\n",
       "      <td>-2.606837</td>\n",
       "      <td>-4.918215</td>\n",
       "      <td>7.305334</td>\n",
       "      <td>1.914428</td>\n",
       "      <td>4.356170</td>\n",
       "      <td>-1.593105</td>\n",
       "      <td>2.711941</td>\n",
       "      <td>-0.689256</td>\n",
       "      <td>4.626942</td>\n",
       "      <td>-0.924459</td>\n",
       "      <td>1.107641</td>\n",
       "      <td>1.991691</td>\n",
       "      <td>0.510632</td>\n",
       "      <td>-0.682920</td>\n",
       "      <td>1.475829</td>\n",
       "      <td>0.213454</td>\n",
       "      <td>0.111864</td>\n",
       "      <td>1.014480</td>\n",
       "      <td>-0.509348</td>\n",
       "      <td>1.436807</td>\n",
       "      <td>0.250034</td>\n",
       "      <td>0.943651</td>\n",
       "      <td>0.823731</td>\n",
       "      <td>0.77</td>\n",
       "      <td>0</td>\n",
       "    </tr>\n",
       "    <tr>\n",
       "      <th>284803</th>\n",
       "      <td>172787.0</td>\n",
       "      <td>-0.732789</td>\n",
       "      <td>-0.055080</td>\n",
       "      <td>2.035030</td>\n",
       "      <td>-0.738589</td>\n",
       "      <td>0.868229</td>\n",
       "      <td>1.058415</td>\n",
       "      <td>0.024330</td>\n",
       "      <td>0.294869</td>\n",
       "      <td>0.584800</td>\n",
       "      <td>-0.975926</td>\n",
       "      <td>-0.150189</td>\n",
       "      <td>0.915802</td>\n",
       "      <td>1.214756</td>\n",
       "      <td>-0.675143</td>\n",
       "      <td>1.164931</td>\n",
       "      <td>-0.711757</td>\n",
       "      <td>-0.025693</td>\n",
       "      <td>-1.221179</td>\n",
       "      <td>-1.545556</td>\n",
       "      <td>0.059616</td>\n",
       "      <td>0.214205</td>\n",
       "      <td>0.924384</td>\n",
       "      <td>0.012463</td>\n",
       "      <td>-1.016226</td>\n",
       "      <td>-0.606624</td>\n",
       "      <td>-0.395255</td>\n",
       "      <td>0.068472</td>\n",
       "      <td>-0.053527</td>\n",
       "      <td>24.79</td>\n",
       "      <td>0</td>\n",
       "    </tr>\n",
       "    <tr>\n",
       "      <th>284804</th>\n",
       "      <td>172788.0</td>\n",
       "      <td>1.919565</td>\n",
       "      <td>-0.301254</td>\n",
       "      <td>-3.249640</td>\n",
       "      <td>-0.557828</td>\n",
       "      <td>2.630515</td>\n",
       "      <td>3.031260</td>\n",
       "      <td>-0.296827</td>\n",
       "      <td>0.708417</td>\n",
       "      <td>0.432454</td>\n",
       "      <td>-0.484782</td>\n",
       "      <td>0.411614</td>\n",
       "      <td>0.063119</td>\n",
       "      <td>-0.183699</td>\n",
       "      <td>-0.510602</td>\n",
       "      <td>1.329284</td>\n",
       "      <td>0.140716</td>\n",
       "      <td>0.313502</td>\n",
       "      <td>0.395652</td>\n",
       "      <td>-0.577252</td>\n",
       "      <td>0.001396</td>\n",
       "      <td>0.232045</td>\n",
       "      <td>0.578229</td>\n",
       "      <td>-0.037501</td>\n",
       "      <td>0.640134</td>\n",
       "      <td>0.265745</td>\n",
       "      <td>-0.087371</td>\n",
       "      <td>0.004455</td>\n",
       "      <td>-0.026561</td>\n",
       "      <td>67.88</td>\n",
       "      <td>0</td>\n",
       "    </tr>\n",
       "    <tr>\n",
       "      <th>284805</th>\n",
       "      <td>172788.0</td>\n",
       "      <td>-0.240440</td>\n",
       "      <td>0.530483</td>\n",
       "      <td>0.702510</td>\n",
       "      <td>0.689799</td>\n",
       "      <td>-0.377961</td>\n",
       "      <td>0.623708</td>\n",
       "      <td>-0.686180</td>\n",
       "      <td>0.679145</td>\n",
       "      <td>0.392087</td>\n",
       "      <td>-0.399126</td>\n",
       "      <td>-1.933849</td>\n",
       "      <td>-0.962886</td>\n",
       "      <td>-1.042082</td>\n",
       "      <td>0.449624</td>\n",
       "      <td>1.962563</td>\n",
       "      <td>-0.608577</td>\n",
       "      <td>0.509928</td>\n",
       "      <td>1.113981</td>\n",
       "      <td>2.897849</td>\n",
       "      <td>0.127434</td>\n",
       "      <td>0.265245</td>\n",
       "      <td>0.800049</td>\n",
       "      <td>-0.163298</td>\n",
       "      <td>0.123205</td>\n",
       "      <td>-0.569159</td>\n",
       "      <td>0.546668</td>\n",
       "      <td>0.108821</td>\n",
       "      <td>0.104533</td>\n",
       "      <td>10.00</td>\n",
       "      <td>0</td>\n",
       "    </tr>\n",
       "    <tr>\n",
       "      <th>284806</th>\n",
       "      <td>172792.0</td>\n",
       "      <td>-0.533413</td>\n",
       "      <td>-0.189733</td>\n",
       "      <td>0.703337</td>\n",
       "      <td>-0.506271</td>\n",
       "      <td>-0.012546</td>\n",
       "      <td>-0.649617</td>\n",
       "      <td>1.577006</td>\n",
       "      <td>-0.414650</td>\n",
       "      <td>0.486180</td>\n",
       "      <td>-0.915427</td>\n",
       "      <td>-1.040458</td>\n",
       "      <td>-0.031513</td>\n",
       "      <td>-0.188093</td>\n",
       "      <td>-0.084316</td>\n",
       "      <td>0.041333</td>\n",
       "      <td>-0.302620</td>\n",
       "      <td>-0.660377</td>\n",
       "      <td>0.167430</td>\n",
       "      <td>-0.256117</td>\n",
       "      <td>0.382948</td>\n",
       "      <td>0.261057</td>\n",
       "      <td>0.643078</td>\n",
       "      <td>0.376777</td>\n",
       "      <td>0.008797</td>\n",
       "      <td>-0.473649</td>\n",
       "      <td>-0.818267</td>\n",
       "      <td>-0.002415</td>\n",
       "      <td>0.013649</td>\n",
       "      <td>217.00</td>\n",
       "      <td>0</td>\n",
       "    </tr>\n",
       "  </tbody>\n",
       "</table>\n",
       "</div>"
      ],
      "text/plain": [
       "            Time         V1         V2        V3        V4        V5  \\\n",
       "284802  172786.0 -11.881118  10.071785 -9.834783 -2.066656 -5.364473   \n",
       "284803  172787.0  -0.732789  -0.055080  2.035030 -0.738589  0.868229   \n",
       "284804  172788.0   1.919565  -0.301254 -3.249640 -0.557828  2.630515   \n",
       "284805  172788.0  -0.240440   0.530483  0.702510  0.689799 -0.377961   \n",
       "284806  172792.0  -0.533413  -0.189733  0.703337 -0.506271 -0.012546   \n",
       "\n",
       "              V6        V7        V8        V9       V10       V11       V12  \\\n",
       "284802 -2.606837 -4.918215  7.305334  1.914428  4.356170 -1.593105  2.711941   \n",
       "284803  1.058415  0.024330  0.294869  0.584800 -0.975926 -0.150189  0.915802   \n",
       "284804  3.031260 -0.296827  0.708417  0.432454 -0.484782  0.411614  0.063119   \n",
       "284805  0.623708 -0.686180  0.679145  0.392087 -0.399126 -1.933849 -0.962886   \n",
       "284806 -0.649617  1.577006 -0.414650  0.486180 -0.915427 -1.040458 -0.031513   \n",
       "\n",
       "             V13       V14       V15       V16       V17       V18       V19  \\\n",
       "284802 -0.689256  4.626942 -0.924459  1.107641  1.991691  0.510632 -0.682920   \n",
       "284803  1.214756 -0.675143  1.164931 -0.711757 -0.025693 -1.221179 -1.545556   \n",
       "284804 -0.183699 -0.510602  1.329284  0.140716  0.313502  0.395652 -0.577252   \n",
       "284805 -1.042082  0.449624  1.962563 -0.608577  0.509928  1.113981  2.897849   \n",
       "284806 -0.188093 -0.084316  0.041333 -0.302620 -0.660377  0.167430 -0.256117   \n",
       "\n",
       "             V20       V21       V22       V23       V24       V25       V26  \\\n",
       "284802  1.475829  0.213454  0.111864  1.014480 -0.509348  1.436807  0.250034   \n",
       "284803  0.059616  0.214205  0.924384  0.012463 -1.016226 -0.606624 -0.395255   \n",
       "284804  0.001396  0.232045  0.578229 -0.037501  0.640134  0.265745 -0.087371   \n",
       "284805  0.127434  0.265245  0.800049 -0.163298  0.123205 -0.569159  0.546668   \n",
       "284806  0.382948  0.261057  0.643078  0.376777  0.008797 -0.473649 -0.818267   \n",
       "\n",
       "             V27       V28  Amount  Class  \n",
       "284802  0.943651  0.823731    0.77      0  \n",
       "284803  0.068472 -0.053527   24.79      0  \n",
       "284804  0.004455 -0.026561   67.88      0  \n",
       "284805  0.108821  0.104533   10.00      0  \n",
       "284806 -0.002415  0.013649  217.00      0  "
      ]
     },
     "execution_count": 4,
     "metadata": {},
     "output_type": "execute_result"
    }
   ],
   "source": [
    "data.head()\n",
    "data.tail()"
   ]
  },
  {
   "cell_type": "markdown",
   "metadata": {},
   "source": [
    "# 2. To find shape of our dataset #"
   ]
  },
  {
   "cell_type": "code",
   "execution_count": 5,
   "metadata": {},
   "outputs": [
    {
     "data": {
      "text/plain": [
       "(284807, 31)"
      ]
     },
     "execution_count": 5,
     "metadata": {},
     "output_type": "execute_result"
    }
   ],
   "source": [
    "data.shape"
   ]
  },
  {
   "cell_type": "code",
   "execution_count": 6,
   "metadata": {},
   "outputs": [
    {
     "name": "stdout",
     "output_type": "stream",
     "text": [
      "Number of Rows: 284807\n",
      "Number of Columns: 31\n"
     ]
    }
   ],
   "source": [
    "print(\"Number of Rows:\",data.shape[0])\n",
    "print(\"Number of Columns:\",data.shape[1])"
   ]
  },
  {
   "cell_type": "markdown",
   "metadata": {},
   "source": [
    "# 3. To get info about rows,columns,datatypes and Memory management #"
   ]
  },
  {
   "cell_type": "code",
   "execution_count": 7,
   "metadata": {},
   "outputs": [
    {
     "name": "stdout",
     "output_type": "stream",
     "text": [
      "<class 'pandas.core.frame.DataFrame'>\n",
      "RangeIndex: 284807 entries, 0 to 284806\n",
      "Data columns (total 31 columns):\n",
      " #   Column  Non-Null Count   Dtype  \n",
      "---  ------  --------------   -----  \n",
      " 0   Time    284807 non-null  float64\n",
      " 1   V1      284807 non-null  float64\n",
      " 2   V2      284807 non-null  float64\n",
      " 3   V3      284807 non-null  float64\n",
      " 4   V4      284807 non-null  float64\n",
      " 5   V5      284807 non-null  float64\n",
      " 6   V6      284807 non-null  float64\n",
      " 7   V7      284807 non-null  float64\n",
      " 8   V8      284807 non-null  float64\n",
      " 9   V9      284807 non-null  float64\n",
      " 10  V10     284807 non-null  float64\n",
      " 11  V11     284807 non-null  float64\n",
      " 12  V12     284807 non-null  float64\n",
      " 13  V13     284807 non-null  float64\n",
      " 14  V14     284807 non-null  float64\n",
      " 15  V15     284807 non-null  float64\n",
      " 16  V16     284807 non-null  float64\n",
      " 17  V17     284807 non-null  float64\n",
      " 18  V18     284807 non-null  float64\n",
      " 19  V19     284807 non-null  float64\n",
      " 20  V20     284807 non-null  float64\n",
      " 21  V21     284807 non-null  float64\n",
      " 22  V22     284807 non-null  float64\n",
      " 23  V23     284807 non-null  float64\n",
      " 24  V24     284807 non-null  float64\n",
      " 25  V25     284807 non-null  float64\n",
      " 26  V26     284807 non-null  float64\n",
      " 27  V27     284807 non-null  float64\n",
      " 28  V28     284807 non-null  float64\n",
      " 29  Amount  284807 non-null  float64\n",
      " 30  Class   284807 non-null  int64  \n",
      "dtypes: float64(30), int64(1)\n",
      "memory usage: 67.4 MB\n"
     ]
    }
   ],
   "source": [
    "data.info()"
   ]
  },
  {
   "cell_type": "markdown",
   "metadata": {},
   "source": [
    "# 4. Check Null values in dataset #"
   ]
  },
  {
   "cell_type": "code",
   "execution_count": 8,
   "metadata": {},
   "outputs": [
    {
     "data": {
      "text/plain": [
       "Time      0\n",
       "V1        0\n",
       "V2        0\n",
       "V3        0\n",
       "V4        0\n",
       "V5        0\n",
       "V6        0\n",
       "V7        0\n",
       "V8        0\n",
       "V9        0\n",
       "V10       0\n",
       "V11       0\n",
       "V12       0\n",
       "V13       0\n",
       "V14       0\n",
       "V15       0\n",
       "V16       0\n",
       "V17       0\n",
       "V18       0\n",
       "V19       0\n",
       "V20       0\n",
       "V21       0\n",
       "V22       0\n",
       "V23       0\n",
       "V24       0\n",
       "V25       0\n",
       "V26       0\n",
       "V27       0\n",
       "V28       0\n",
       "Amount    0\n",
       "Class     0\n",
       "dtype: int64"
      ]
     },
     "execution_count": 8,
     "metadata": {},
     "output_type": "execute_result"
    }
   ],
   "source": [
    "data.isnull().sum()"
   ]
  },
  {
   "cell_type": "markdown",
   "metadata": {},
   "source": [
    "# 5. Standard scaler in sklearn #"
   ]
  },
  {
   "cell_type": "code",
   "execution_count": 9,
   "metadata": {},
   "outputs": [],
   "source": [
    "from sklearn.preprocessing import StandardScaler"
   ]
  },
  {
   "cell_type": "code",
   "execution_count": 10,
   "metadata": {},
   "outputs": [],
   "source": [
    "sc = StandardScaler()\n",
    "data['Amount']=sc.fit_transform(pd.DataFrame(data['Amount']))"
   ]
  },
  {
   "cell_type": "markdown",
   "metadata": {},
   "source": [
    "# 6. Removing unwanted Attributes and duplications from dataset #"
   ]
  },
  {
   "cell_type": "code",
   "execution_count": 11,
   "metadata": {},
   "outputs": [],
   "source": [
    "data = data.drop(['Time'],axis=1)\n",
    "data = data.drop_duplicates()"
   ]
  },
  {
   "cell_type": "markdown",
   "metadata": {},
   "source": [
    "# 7. Imbalancement isn't handling itself # "
   ]
  },
  {
   "cell_type": "code",
   "execution_count": 12,
   "metadata": {},
   "outputs": [
    {
     "data": {
      "text/plain": [
       "<Axes: ylabel='count'>"
      ]
     },
     "execution_count": 12,
     "metadata": {},
     "output_type": "execute_result"
    },
    {
     "data": {
      "image/png": "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",
      "text/plain": [
       "<Figure size 640x480 with 1 Axes>"
      ]
     },
     "metadata": {},
     "output_type": "display_data"
    }
   ],
   "source": [
    "data['Class'].value_counts()\n",
    "sns.countplot(data['Class'])\n"
   ]
  },
  {
   "cell_type": "markdown",
   "metadata": {},
   "source": [
    "# Store Feature in X and Y #"
   ]
  },
  {
   "cell_type": "code",
   "execution_count": 13,
   "metadata": {},
   "outputs": [],
   "source": [
    "X = data.drop('Class',axis=1)\n",
    "y = data['Class']"
   ]
  },
  {
   "cell_type": "markdown",
   "metadata": {},
   "source": [
    "# 8. Splitting The Dataset Into The Training Set And Test Set #"
   ]
  },
  {
   "cell_type": "code",
   "execution_count": 14,
   "metadata": {},
   "outputs": [],
   "source": [
    "from sklearn.model_selection import train_test_split\n",
    "X_train,X_test,y_train,y_test = train_test_split(X,y,test_size=0.20,\n",
    "                                                 random_state=42)"
   ]
  },
  {
   "cell_type": "markdown",
   "metadata": {},
   "source": [
    "# 9. Handling Imbalanced Dataset #"
   ]
  },
  {
   "cell_type": "markdown",
   "metadata": {},
   "source": [
    "# UnderSampling #"
   ]
  },
  {
   "cell_type": "code",
   "execution_count": 15,
   "metadata": {},
   "outputs": [],
   "source": [
    "normal = data[data['Class']==0]\n",
    "fraud = data[data['Class']==1]"
   ]
  },
  {
   "cell_type": "code",
   "execution_count": 16,
   "metadata": {},
   "outputs": [
    {
     "data": {
      "text/plain": [
       "(275190, 30)"
      ]
     },
     "execution_count": 16,
     "metadata": {},
     "output_type": "execute_result"
    }
   ],
   "source": [
    "normal.shape"
   ]
  },
  {
   "cell_type": "code",
   "execution_count": 17,
   "metadata": {},
   "outputs": [
    {
     "data": {
      "text/plain": [
       "(473, 30)"
      ]
     },
     "execution_count": 17,
     "metadata": {},
     "output_type": "execute_result"
    }
   ],
   "source": [
    "fraud.shape"
   ]
  },
  {
   "cell_type": "code",
   "execution_count": 18,
   "metadata": {},
   "outputs": [],
   "source": [
    "normal_sample=normal.sample(n=473)"
   ]
  },
  {
   "cell_type": "code",
   "execution_count": 19,
   "metadata": {},
   "outputs": [
    {
     "data": {
      "text/plain": [
       "(473, 30)"
      ]
     },
     "execution_count": 19,
     "metadata": {},
     "output_type": "execute_result"
    }
   ],
   "source": [
    "normal_sample.shape"
   ]
  },
  {
   "cell_type": "code",
   "execution_count": 20,
   "metadata": {},
   "outputs": [],
   "source": [
    "new_data = pd.concat([normal_sample,fraud],ignore_index=True)\n"
   ]
  },
  {
   "cell_type": "code",
   "execution_count": 21,
   "metadata": {},
   "outputs": [
    {
     "data": {
      "text/plain": [
       "Class\n",
       "0    473\n",
       "1    473\n",
       "Name: count, dtype: int64"
      ]
     },
     "execution_count": 21,
     "metadata": {},
     "output_type": "execute_result"
    }
   ],
   "source": [
    "new_data['Class'].value_counts()"
   ]
  },
  {
   "cell_type": "code",
   "execution_count": 22,
   "metadata": {},
   "outputs": [
    {
     "data": {
      "text/html": [
       "<div>\n",
       "<style scoped>\n",
       "    .dataframe tbody tr th:only-of-type {\n",
       "        vertical-align: middle;\n",
       "    }\n",
       "\n",
       "    .dataframe tbody tr th {\n",
       "        vertical-align: top;\n",
       "    }\n",
       "\n",
       "    .dataframe thead th {\n",
       "        text-align: right;\n",
       "    }\n",
       "</style>\n",
       "<table border=\"1\" class=\"dataframe\">\n",
       "  <thead>\n",
       "    <tr style=\"text-align: right;\">\n",
       "      <th></th>\n",
       "      <th>V1</th>\n",
       "      <th>V2</th>\n",
       "      <th>V3</th>\n",
       "      <th>V4</th>\n",
       "      <th>V5</th>\n",
       "      <th>V6</th>\n",
       "      <th>V7</th>\n",
       "      <th>V8</th>\n",
       "      <th>V9</th>\n",
       "      <th>V10</th>\n",
       "      <th>V11</th>\n",
       "      <th>V12</th>\n",
       "      <th>V13</th>\n",
       "      <th>V14</th>\n",
       "      <th>V15</th>\n",
       "      <th>V16</th>\n",
       "      <th>V17</th>\n",
       "      <th>V18</th>\n",
       "      <th>V19</th>\n",
       "      <th>V20</th>\n",
       "      <th>V21</th>\n",
       "      <th>V22</th>\n",
       "      <th>V23</th>\n",
       "      <th>V24</th>\n",
       "      <th>V25</th>\n",
       "      <th>V26</th>\n",
       "      <th>V27</th>\n",
       "      <th>V28</th>\n",
       "      <th>Amount</th>\n",
       "      <th>Class</th>\n",
       "    </tr>\n",
       "  </thead>\n",
       "  <tbody>\n",
       "    <tr>\n",
       "      <th>0</th>\n",
       "      <td>-0.747890</td>\n",
       "      <td>-0.419561</td>\n",
       "      <td>0.259592</td>\n",
       "      <td>0.525039</td>\n",
       "      <td>-0.699284</td>\n",
       "      <td>0.892685</td>\n",
       "      <td>1.751410</td>\n",
       "      <td>-0.018378</td>\n",
       "      <td>-0.391847</td>\n",
       "      <td>-0.539320</td>\n",
       "      <td>-1.508064</td>\n",
       "      <td>-1.447097</td>\n",
       "      <td>-1.645839</td>\n",
       "      <td>0.556193</td>\n",
       "      <td>1.374450</td>\n",
       "      <td>-0.874528</td>\n",
       "      <td>0.674258</td>\n",
       "      <td>-0.117087</td>\n",
       "      <td>2.042176</td>\n",
       "      <td>0.912721</td>\n",
       "      <td>0.182625</td>\n",
       "      <td>-0.019007</td>\n",
       "      <td>0.602571</td>\n",
       "      <td>-0.922118</td>\n",
       "      <td>-0.020465</td>\n",
       "      <td>1.384549</td>\n",
       "      <td>-0.081984</td>\n",
       "      <td>0.115857</td>\n",
       "      <td>1.205944</td>\n",
       "      <td>0</td>\n",
       "    </tr>\n",
       "    <tr>\n",
       "      <th>1</th>\n",
       "      <td>-0.789304</td>\n",
       "      <td>0.107723</td>\n",
       "      <td>0.655574</td>\n",
       "      <td>1.105067</td>\n",
       "      <td>-0.115432</td>\n",
       "      <td>0.773314</td>\n",
       "      <td>-0.833790</td>\n",
       "      <td>0.789969</td>\n",
       "      <td>1.185240</td>\n",
       "      <td>-1.175807</td>\n",
       "      <td>-2.316644</td>\n",
       "      <td>0.054571</td>\n",
       "      <td>0.537938</td>\n",
       "      <td>-2.049900</td>\n",
       "      <td>-0.567256</td>\n",
       "      <td>0.786580</td>\n",
       "      <td>0.404055</td>\n",
       "      <td>1.368603</td>\n",
       "      <td>-0.022564</td>\n",
       "      <td>-0.229604</td>\n",
       "      <td>0.200868</td>\n",
       "      <td>0.906606</td>\n",
       "      <td>0.226520</td>\n",
       "      <td>-1.154971</td>\n",
       "      <td>-0.610361</td>\n",
       "      <td>-0.507381</td>\n",
       "      <td>0.084316</td>\n",
       "      <td>0.047703</td>\n",
       "      <td>-0.164120</td>\n",
       "      <td>0</td>\n",
       "    </tr>\n",
       "    <tr>\n",
       "      <th>2</th>\n",
       "      <td>0.990567</td>\n",
       "      <td>-0.194078</td>\n",
       "      <td>0.801261</td>\n",
       "      <td>1.388230</td>\n",
       "      <td>-0.416552</td>\n",
       "      <td>0.456136</td>\n",
       "      <td>-0.293155</td>\n",
       "      <td>0.094786</td>\n",
       "      <td>0.536967</td>\n",
       "      <td>-0.234156</td>\n",
       "      <td>-0.720904</td>\n",
       "      <td>1.059189</td>\n",
       "      <td>1.337359</td>\n",
       "      <td>-0.511631</td>\n",
       "      <td>0.162708</td>\n",
       "      <td>-0.292731</td>\n",
       "      <td>-0.124981</td>\n",
       "      <td>-0.482844</td>\n",
       "      <td>-0.546243</td>\n",
       "      <td>0.088878</td>\n",
       "      <td>0.157526</td>\n",
       "      <td>0.600652</td>\n",
       "      <td>-0.239992</td>\n",
       "      <td>-0.205282</td>\n",
       "      <td>0.633413</td>\n",
       "      <td>-0.161198</td>\n",
       "      <td>0.067427</td>\n",
       "      <td>0.040282</td>\n",
       "      <td>0.012995</td>\n",
       "      <td>0</td>\n",
       "    </tr>\n",
       "    <tr>\n",
       "      <th>3</th>\n",
       "      <td>1.266598</td>\n",
       "      <td>-0.106206</td>\n",
       "      <td>0.479141</td>\n",
       "      <td>-0.253252</td>\n",
       "      <td>-0.604843</td>\n",
       "      <td>-0.521691</td>\n",
       "      <td>-0.346951</td>\n",
       "      <td>0.025329</td>\n",
       "      <td>0.217523</td>\n",
       "      <td>-0.031092</td>\n",
       "      <td>1.112213</td>\n",
       "      <td>0.595370</td>\n",
       "      <td>-0.289308</td>\n",
       "      <td>0.384217</td>\n",
       "      <td>0.618040</td>\n",
       "      <td>0.716294</td>\n",
       "      <td>-0.711538</td>\n",
       "      <td>0.231139</td>\n",
       "      <td>0.444786</td>\n",
       "      <td>-0.072240</td>\n",
       "      <td>-0.109427</td>\n",
       "      <td>-0.352200</td>\n",
       "      <td>0.050511</td>\n",
       "      <td>0.055084</td>\n",
       "      <td>0.118678</td>\n",
       "      <td>0.908757</td>\n",
       "      <td>-0.077219</td>\n",
       "      <td>-0.005194</td>\n",
       "      <td>-0.351430</td>\n",
       "      <td>0</td>\n",
       "    </tr>\n",
       "    <tr>\n",
       "      <th>4</th>\n",
       "      <td>-0.794530</td>\n",
       "      <td>1.175247</td>\n",
       "      <td>1.579107</td>\n",
       "      <td>-0.085427</td>\n",
       "      <td>0.416781</td>\n",
       "      <td>-0.939305</td>\n",
       "      <td>1.116352</td>\n",
       "      <td>-0.229935</td>\n",
       "      <td>-0.645218</td>\n",
       "      <td>-0.659545</td>\n",
       "      <td>-0.528923</td>\n",
       "      <td>0.240873</td>\n",
       "      <td>0.535253</td>\n",
       "      <td>0.066602</td>\n",
       "      <td>0.149007</td>\n",
       "      <td>0.209191</td>\n",
       "      <td>-0.762566</td>\n",
       "      <td>-0.159465</td>\n",
       "      <td>-1.018958</td>\n",
       "      <td>-0.151060</td>\n",
       "      <td>0.125228</td>\n",
       "      <td>0.312140</td>\n",
       "      <td>-0.299224</td>\n",
       "      <td>0.396988</td>\n",
       "      <td>0.435184</td>\n",
       "      <td>-0.500001</td>\n",
       "      <td>-0.058436</td>\n",
       "      <td>0.091566</td>\n",
       "      <td>-0.321285</td>\n",
       "      <td>0</td>\n",
       "    </tr>\n",
       "  </tbody>\n",
       "</table>\n",
       "</div>"
      ],
      "text/plain": [
       "         V1        V2        V3        V4        V5        V6        V7  \\\n",
       "0 -0.747890 -0.419561  0.259592  0.525039 -0.699284  0.892685  1.751410   \n",
       "1 -0.789304  0.107723  0.655574  1.105067 -0.115432  0.773314 -0.833790   \n",
       "2  0.990567 -0.194078  0.801261  1.388230 -0.416552  0.456136 -0.293155   \n",
       "3  1.266598 -0.106206  0.479141 -0.253252 -0.604843 -0.521691 -0.346951   \n",
       "4 -0.794530  1.175247  1.579107 -0.085427  0.416781 -0.939305  1.116352   \n",
       "\n",
       "         V8        V9       V10       V11       V12       V13       V14  \\\n",
       "0 -0.018378 -0.391847 -0.539320 -1.508064 -1.447097 -1.645839  0.556193   \n",
       "1  0.789969  1.185240 -1.175807 -2.316644  0.054571  0.537938 -2.049900   \n",
       "2  0.094786  0.536967 -0.234156 -0.720904  1.059189  1.337359 -0.511631   \n",
       "3  0.025329  0.217523 -0.031092  1.112213  0.595370 -0.289308  0.384217   \n",
       "4 -0.229935 -0.645218 -0.659545 -0.528923  0.240873  0.535253  0.066602   \n",
       "\n",
       "        V15       V16       V17       V18       V19       V20       V21  \\\n",
       "0  1.374450 -0.874528  0.674258 -0.117087  2.042176  0.912721  0.182625   \n",
       "1 -0.567256  0.786580  0.404055  1.368603 -0.022564 -0.229604  0.200868   \n",
       "2  0.162708 -0.292731 -0.124981 -0.482844 -0.546243  0.088878  0.157526   \n",
       "3  0.618040  0.716294 -0.711538  0.231139  0.444786 -0.072240 -0.109427   \n",
       "4  0.149007  0.209191 -0.762566 -0.159465 -1.018958 -0.151060  0.125228   \n",
       "\n",
       "        V22       V23       V24       V25       V26       V27       V28  \\\n",
       "0 -0.019007  0.602571 -0.922118 -0.020465  1.384549 -0.081984  0.115857   \n",
       "1  0.906606  0.226520 -1.154971 -0.610361 -0.507381  0.084316  0.047703   \n",
       "2  0.600652 -0.239992 -0.205282  0.633413 -0.161198  0.067427  0.040282   \n",
       "3 -0.352200  0.050511  0.055084  0.118678  0.908757 -0.077219 -0.005194   \n",
       "4  0.312140 -0.299224  0.396988  0.435184 -0.500001 -0.058436  0.091566   \n",
       "\n",
       "     Amount  Class  \n",
       "0  1.205944      0  \n",
       "1 -0.164120      0  \n",
       "2  0.012995      0  \n",
       "3 -0.351430      0  \n",
       "4 -0.321285      0  "
      ]
     },
     "execution_count": 22,
     "metadata": {},
     "output_type": "execute_result"
    }
   ],
   "source": [
    "new_data.head()"
   ]
  },
  {
   "cell_type": "code",
   "execution_count": 23,
   "metadata": {},
   "outputs": [
    {
     "data": {
      "text/plain": [
       "((946, 29), (946,))"
      ]
     },
     "execution_count": 23,
     "metadata": {},
     "output_type": "execute_result"
    }
   ],
   "source": [
    "X = new_data.drop('Class',axis=1)\n",
    "y = new_data['Class']\n",
    "X.shape,y.shape"
   ]
  },
  {
   "cell_type": "code",
   "execution_count": 24,
   "metadata": {},
   "outputs": [],
   "source": [
    "from sklearn.model_selection import train_test_split\n",
    "X_train,X_test,y_train,y_test = train_test_split(X,y,test_size=0.20,random_state=42)"
   ]
  },
  {
   "cell_type": "markdown",
   "metadata": {},
   "source": [
    "# 10. Standard Scaler #"
   ]
  },
  {
   "cell_type": "code",
   "execution_count": 25,
   "metadata": {},
   "outputs": [
    {
     "data": {
      "text/plain": [
       "(array([[ 0.63022605, -0.41311315,  0.60939271, ..., -0.04398557,\n",
       "         -0.05224116, -0.35793023],\n",
       "        [ 0.26099345, -0.35908868,  0.68926713, ..., -0.13168347,\n",
       "          0.16153193,  0.19799947],\n",
       "        [ 0.25611451, -0.14957799,  0.76992697, ..., -0.11553584,\n",
       "         -0.03900447, -0.38609445],\n",
       "        ...,\n",
       "        [ 0.44585247,  0.08048549,  0.47941735, ..., -0.2322665 ,\n",
       "          0.07431622, -0.44765772],\n",
       "        [ 0.15662308, -0.19659805,  0.43314935, ..., -0.6131005 ,\n",
       "         -0.7248272 , -0.31522964],\n",
       "        [ 0.81190059, -0.45362282,  0.21293481, ..., -0.19244835,\n",
       "         -0.28423719, -0.44765772]]),\n",
       " 77     0\n",
       " 247    0\n",
       " 250    0\n",
       " 82     0\n",
       " 549    1\n",
       "       ..\n",
       " 106    0\n",
       " 270    0\n",
       " 860    1\n",
       " 435    0\n",
       " 102    0\n",
       " Name: Class, Length: 756, dtype: int64)"
      ]
     },
     "execution_count": 25,
     "metadata": {},
     "output_type": "execute_result"
    }
   ],
   "source": [
    "scaler = StandardScaler()\n",
    "X_train=scaler.fit_transform(X_train)\n",
    "X_test=scaler.fit_transform(X_test)\n",
    "X_train,y_train"
   ]
  },
  {
   "cell_type": "markdown",
   "metadata": {},
   "source": [
    "# 11.Converting into Array"
   ]
  },
  {
   "cell_type": "code",
   "execution_count": 26,
   "metadata": {},
   "outputs": [
    {
     "data": {
      "text/plain": [
       "(756, 29)"
      ]
     },
     "execution_count": 26,
     "metadata": {},
     "output_type": "execute_result"
    }
   ],
   "source": [
    "y_train=y_train.to_numpy()\n",
    "y_test=y_test.to_numpy()\n",
    "X_train.shape"
   ]
  },
  {
   "cell_type": "markdown",
   "metadata": {},
   "source": [
    "# 12. Changing shape of a Data"
   ]
  },
  {
   "cell_type": "code",
   "execution_count": 27,
   "metadata": {},
   "outputs": [
    {
     "data": {
      "text/plain": [
       "((756, 29, 1), (190, 29, 1))"
      ]
     },
     "execution_count": 27,
     "metadata": {},
     "output_type": "execute_result"
    }
   ],
   "source": [
    "X_train=X_train.reshape(X_train.shape[0],X_train.shape[1],1)\n",
    "X_test=X_test.reshape(X_test.shape[0],X_test.shape[1],1)\n",
    "X_train.shape, X_test.shape"
   ]
  },
  {
   "cell_type": "markdown",
   "metadata": {},
   "source": [
    "# Model Design"
   ]
  },
  {
   "cell_type": "code",
   "execution_count": 28,
   "metadata": {},
   "outputs": [
    {
     "name": "stdout",
     "output_type": "stream",
     "text": [
      "Model: \"sequential\"\n",
      "_________________________________________________________________\n",
      " Layer (type)                Output Shape              Param #   \n",
      "=================================================================\n",
      " conv1d (Conv1D)             (None, 28, 32)            96        \n",
      "                                                                 \n",
      " batch_normalization (BatchN  (None, 28, 32)           128       \n",
      " ormalization)                                                   \n",
      "                                                                 \n",
      " dropout (Dropout)           (None, 28, 32)            0         \n",
      "                                                                 \n",
      " conv1d_1 (Conv1D)           (None, 27, 64)            4160      \n",
      "                                                                 \n",
      " batch_normalization_1 (Batc  (None, 27, 64)           256       \n",
      " hNormalization)                                                 \n",
      "                                                                 \n",
      " dropout_1 (Dropout)         (None, 27, 64)            0         \n",
      "                                                                 \n",
      " flatten (Flatten)           (None, 1728)              0         \n",
      "                                                                 \n",
      " dense (Dense)               (None, 64)                110656    \n",
      "                                                                 \n",
      " dropout_2 (Dropout)         (None, 64)                0         \n",
      "                                                                 \n",
      " dense_1 (Dense)             (None, 1)                 65        \n",
      "                                                                 \n",
      "=================================================================\n",
      "Total params: 115,361\n",
      "Trainable params: 115,169\n",
      "Non-trainable params: 192\n",
      "_________________________________________________________________\n"
     ]
    }
   ],
   "source": [
    "from tensorflow.keras.models import Sequential\n",
    "from tensorflow.keras.layers import Dense,Flatten,Conv1D,BatchNormalization,Dropout\n",
    "model=Sequential()\n",
    "model.add(Conv1D(filters=32, kernel_size=2, activation='relu', input_shape=X_train[0].shape))\n",
    "model.add(BatchNormalization())\n",
    "model.add(Dropout(0.2))\n",
    "model.add(Conv1D(filters=64, kernel_size=2, activation='relu'))\n",
    "model.add(BatchNormalization())\n",
    "model.add(Dropout(0.2))\n",
    "model.add(Flatten())\n",
    "model.add(Dense(64, activation='relu'))\n",
    "model.add(Dropout(0.5))\n",
    "model.add(Dense(1, activation='relu'))\n",
    "model.summary()\n",
    "model.compile(optimizer='adam', loss='binary_crossentropy', metrics=['accuracy'])"
   ]
  },
  {
   "cell_type": "code",
   "execution_count": 29,
   "metadata": {},
   "outputs": [
    {
     "name": "stdout",
     "output_type": "stream",
     "text": [
      "Epoch 1/20\n",
      "24/24 [==============================] - 2s 17ms/step - loss: 2.5990 - accuracy: 0.8108 - val_loss: 1.2464 - val_accuracy: 0.8053\n",
      "Epoch 2/20\n",
      "24/24 [==============================] - 0s 7ms/step - loss: 1.7604 - accuracy: 0.8823 - val_loss: 0.7046 - val_accuracy: 0.6053\n",
      "Epoch 3/20\n",
      "24/24 [==============================] - 0s 7ms/step - loss: 1.5196 - accuracy: 0.8981 - val_loss: 0.9708 - val_accuracy: 0.5842\n",
      "Epoch 4/20\n",
      "24/24 [==============================] - 0s 8ms/step - loss: 1.6357 - accuracy: 0.8929 - val_loss: 1.2079 - val_accuracy: 0.6000\n",
      "Epoch 5/20\n",
      "24/24 [==============================] - 0s 7ms/step - loss: 1.4116 - accuracy: 0.9061 - val_loss: 4.0860 - val_accuracy: 0.5632\n",
      "Epoch 6/20\n",
      "24/24 [==============================] - 0s 7ms/step - loss: 1.3491 - accuracy: 0.9074 - val_loss: 6.9211 - val_accuracy: 0.5421\n",
      "Epoch 7/20\n",
      "24/24 [==============================] - 0s 7ms/step - loss: 1.3749 - accuracy: 0.9008 - val_loss: 3.5673 - val_accuracy: 0.6579\n",
      "Epoch 8/20\n",
      "24/24 [==============================] - 0s 8ms/step - loss: 1.1926 - accuracy: 0.9206 - val_loss: 2.7110 - val_accuracy: 0.7474\n",
      "Epoch 9/20\n",
      "24/24 [==============================] - 0s 7ms/step - loss: 1.2141 - accuracy: 0.9167 - val_loss: 3.2935 - val_accuracy: 0.6947\n",
      "Epoch 10/20\n",
      "24/24 [==============================] - 0s 7ms/step - loss: 1.0692 - accuracy: 0.9272 - val_loss: 2.4030 - val_accuracy: 0.7789\n",
      "Epoch 11/20\n",
      "24/24 [==============================] - 0s 7ms/step - loss: 1.1847 - accuracy: 0.9220 - val_loss: 2.5632 - val_accuracy: 0.7947\n",
      "Epoch 12/20\n",
      "24/24 [==============================] - 0s 7ms/step - loss: 1.0652 - accuracy: 0.9272 - val_loss: 1.5820 - val_accuracy: 0.8737\n",
      "Epoch 13/20\n",
      "24/24 [==============================] - 0s 7ms/step - loss: 1.0124 - accuracy: 0.9286 - val_loss: 1.2082 - val_accuracy: 0.8579\n",
      "Epoch 14/20\n",
      "24/24 [==============================] - 0s 7ms/step - loss: 1.1649 - accuracy: 0.9233 - val_loss: 1.2141 - val_accuracy: 0.9211\n",
      "Epoch 15/20\n",
      "24/24 [==============================] - 0s 7ms/step - loss: 1.0208 - accuracy: 0.9339 - val_loss: 1.1396 - val_accuracy: 0.9211\n",
      "Epoch 16/20\n",
      "24/24 [==============================] - 0s 7ms/step - loss: 1.1073 - accuracy: 0.9246 - val_loss: 0.9870 - val_accuracy: 0.9316\n",
      "Epoch 17/20\n",
      "24/24 [==============================] - 0s 7ms/step - loss: 1.0470 - accuracy: 0.9286 - val_loss: 0.9741 - val_accuracy: 0.9368\n",
      "Epoch 18/20\n",
      "24/24 [==============================] - 0s 6ms/step - loss: 1.0036 - accuracy: 0.9339 - val_loss: 0.9733 - val_accuracy: 0.9368\n",
      "Epoch 19/20\n",
      "24/24 [==============================] - 0s 6ms/step - loss: 1.0023 - accuracy: 0.9339 - val_loss: 0.9029 - val_accuracy: 0.9368\n",
      "Epoch 20/20\n",
      "24/24 [==============================] - 0s 6ms/step - loss: 1.5136 - accuracy: 0.8981 - val_loss: 2.9608 - val_accuracy: 0.7737\n"
     ]
    }
   ],
   "source": [
    "# Model fitting\n",
    "history=model.fit(X_train,y_train,epochs=20,validation_data=(X_test,y_test))"
   ]
  },
  {
   "cell_type": "markdown",
   "metadata": {},
   "source": [
    "# Plot on Model"
   ]
  },
  {
   "cell_type": "code",
   "execution_count": 30,
   "metadata": {},
   "outputs": [],
   "source": [
    "def plot_learningcurve(history,epochs):\n",
    "  epoch=range(1,epochs+1)\n",
    "  # Accuracy\n",
    "  plt.plot(epoch, history.history['accuracy'])\n",
    "  plt.plot(epoch, history.history['val_accuracy'])\n",
    "  plt.title('Model accuracy')\n",
    "  plt.xlabel('epoch')\n",
    "  plt.ylabel('accuracy')\n",
    "  plt.legend(['train','val'], loc='upper left')\n",
    "  plt.show()\n",
    "   # Loss\n",
    "  plt.plot(epoch, history.history['loss'])\n",
    "  plt.plot(epoch, history.history['val_loss'])\n",
    "  plt.title('Model loss')\n",
    "  plt.xlabel('epoch')\n",
    "  plt.ylabel('loss')\n",
    "  plt.legend(['train','val'], loc='upper left')\n",
    "  plt.show()"
   ]
  },
  {
   "cell_type": "code",
   "execution_count": 31,
   "metadata": {},
   "outputs": [
    {
     "data": {
      "image/png": "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",
      "text/plain": [
       "<Figure size 640x480 with 1 Axes>"
      ]
     },
     "metadata": {},
     "output_type": "display_data"
    },
    {
     "data": {
      "image/png": "iVBORw0KGgoAAAANSUhEUgAAAioAAAHHCAYAAACRAnNyAAAAOXRFWHRTb2Z0d2FyZQBNYXRwbG90bGliIHZlcnNpb24zLjguMywgaHR0cHM6Ly9tYXRwbG90bGliLm9yZy/H5lhTAAAACXBIWXMAAA9hAAAPYQGoP6dpAABoUElEQVR4nO3dd3xUVf7/8dekTXpCGkkgEHoHFRABOyiCgrqWFXEFsewqrGV113X356rrd8Xe1u4quGvBig0RQSmKIF0BkSYllBASSO+Z+/vjZoYEAqTOvTN5Px+PYe7M3LnzuRkm88k5n3OOwzAMAxEREREbCrA6ABEREZFjUaIiIiIitqVERURERGxLiYqIiIjYlhIVERERsS0lKiIiImJbSlRERETEtpSoiIiIiG0pURERERHbUqIiIl7jcDi4//77G/y8HTt24HA4mDFjxnH3W7hwIQ6Hg4ULFzYqPhGxHyUqIq3MjBkzcDgcOBwOvvvuu6MeNwyDtLQ0HA4HF110kQURiogcpkRFpJUKDQ3l7bffPur+RYsWsXv3bpxOpwVRiYjUpkRFpJUaM2YM77//PpWVlbXuf/vttxk4cCDJyckWRSYicpgSFZFWavz48eTk5DBv3jzPfeXl5XzwwQdcffXVdT6nqKiIO++8k7S0NJxOJz169ODxxx/nyEXYy8rKuOOOO0hMTCQqKopx48axe/fuOo+5Z88eJk+eTNu2bXE6nfTp04fXX3+9+U4UeP/99xk4cCBhYWEkJCRwzTXXsGfPnlr7ZGZmct1119G+fXucTicpKSlcfPHF7Nixw7PPypUrGTVqFAkJCYSFhdGpUycmT57crLGKSG1BVgcgItZIT09n6NChvPPOO4wePRqAOXPmkJeXx1VXXcWzzz5ba3/DMBg3bhwLFizg+uuv56STTmLu3Ln8+c9/Zs+ePTz11FOefW+44QbefPNNrr76aoYNG8Y333zDhRdeeFQM+/fv57TTTsPhcDB16lQSExOZM2cO119/Pfn5+dx+++1NPs8ZM2Zw3XXXMXjwYKZNm8b+/ft55plnWLJkCWvWrCE2NhaAyy67jA0bNvDHP/6R9PR0srKymDdvHrt27fLcPv/880lMTOSvf/0rsbGx7Nixg48++qjJMYrIcRgi0qpMnz7dAIwVK1YYzz33nBEVFWUUFxcbhmEYV1xxhXHOOecYhmEYHTt2NC688ELP8z7++GMDMP7v//6v1vEuv/xyw+FwGFu3bjUMwzDWrl1rAMYtt9xSa7+rr77aAIz77rvPc9/1119vpKSkGNnZ2bX2veqqq4yYmBhPXNu3bzcAY/r06cc9twULFhiAsWDBAsMwDKO8vNxISkoy+vbta5SUlHj2+/zzzw3A+Mc//mEYhmEcOnTIAIzHHnvsmMeeNWuW5+cmIt6jrh+RVuzKK6+kpKSEzz//nIKCAj7//PNjdvt88cUXBAYGcuutt9a6/84778QwDObMmePZDzhqvyNbRwzD4MMPP2Ts2LEYhkF2drbnMmrUKPLy8li9enWTzm/lypVkZWVxyy23EBoa6rn/wgsvpGfPnsyePRuAsLAwQkJCWLhwIYcOHarzWO6Wl88//5yKioomxSUi9adERaQVS0xMZOTIkbz99tt89NFHVFVVcfnll9e5786dO0lNTSUqKqrW/b169fI87r4OCAigS5cutfbr0aNHrdsHDhwgNzeXV155hcTExFqX6667DoCsrKwmnZ87piNfG6Bnz56ex51OJ4888ghz5syhbdu2nHnmmTz66KNkZmZ69j/rrLO47LLLeOCBB0hISODiiy9m+vTplJWVNSlGETk+1aiItHJXX301N954I5mZmYwePdrTctDSXC4XANdccw0TJ06sc5/+/ft7JRYwW3zGjh3Lxx9/zNy5c7n33nuZNm0a33zzDSeffDIOh4MPPviAZcuW8dlnnzF37lwmT57ME088wbJly4iMjPRarCKtiVpURFq5Sy+9lICAAJYtW3bMbh+Ajh07snfvXgoKCmrd/8svv3ged1+7XC62bdtWa79NmzbVuu0eEVRVVcXIkSPrvCQlJTXp3NwxHfna7vvcj7t16dKFO++8k6+++or169dTXl7OE088UWuf0047jX/961+sXLmSt956iw0bNjBz5swmxSkix6ZERaSVi4yM5MUXX+T+++9n7Nixx9xvzJgxVFVV8dxzz9W6/6mnnsLhcHhGDrmvjxw19PTTT9e6HRgYyGWXXcaHH37I+vXrj3q9AwcONOZ0ahk0aBBJSUm89NJLtbpo5syZw8aNGz0jkYqLiyktLa313C5duhAVFeV53qFDh44ahn3SSScBqPtHpAWp60dEjtn1UtPYsWM555xz+Pvf/86OHTsYMGAAX331FZ988gm33367pyblpJNOYvz48bzwwgvk5eUxbNgwvv76a7Zu3XrUMR9++GEWLFjAkCFDuPHGG+nduzcHDx5k9erVzJ8/n4MHDzbpvIKDg3nkkUe47rrrOOussxg/frxneHJ6ejp33HEHAJs3b2bEiBFceeWV9O7dm6CgIGbNmsX+/fu56qqrAHjjjTd44YUXuPTSS+nSpQsFBQW8+uqrREdHM2bMmCbFKSLHpkRFROolICCATz/9lH/84x+8++67TJ8+nfT0dB577DHuvPPOWvu+/vrrJCYm8tZbb/Hxxx9z7rnnMnv2bNLS0mrt17ZtW5YvX84///lPPvroI1544QXi4+Pp06cPjzzySLPEPWnSJMLDw3n44Ye5++67iYiI4NJLL+WRRx7x1OOkpaUxfvx4vv76a/73v/8RFBREz549ee+997jssssAs5h2+fLlzJw5k/379xMTE8Opp57KW2+9RadOnZolVhE5msM4si1TRERExCZUoyIiIiK2pURFREREbEuJioiIiNiWEhURERGxLSUqIiIiYltKVERERMS2fHoeFZfLxd69e4mKisLhcFgdjoiIiNSDYRgUFBSQmppKQMDx20x8OlHZu3fvURNIiYiIiG/IyMigffv2x93HpxMV93LzGRkZREdHWxyNiIiI1Ed+fj5paWme7/Hj8elExd3dEx0drURFRETEx9SnbEPFtCIiImJbSlRERETEtpSoiIiIiG35dI1KfVVVVVFRUWF1GD4pODiYwMBAq8MQEZFWyq8TFcMwyMzMJDc31+pQfFpsbCzJycmaq0ZERLzO0kQlPT2dnTt3HnX/LbfcwvPPP9/k47uTlKSkJMLDw/VF20CGYVBcXExWVhYAKSkpFkckIiKtjaWJyooVK6iqqvLcXr9+Peeddx5XXHFFk49dVVXlSVLi4+ObfLzWKiwsDICsrCySkpLUDSQiIl5laaKSmJhY6/bDDz9Mly5dOOuss5p8bHdNSnh4eJOP1dq5f4YVFRVKVERExKtsM+qnvLycN998k8mTJzdrF426e5pOP0MREbGKbYppP/74Y3Jzc5k0adIx9ykrK6OsrMxzOz8/3wuRiYiIiFVs06Ly2muvMXr0aFJTU4+5z7Rp04iJifFctCDhiaWnp/P0009bHYaIiEij2CJR2blzJ/Pnz+eGG2447n733HMPeXl5nktGRoaXIvSus88+m9tvv71ZjrVixQpuuummZjmWiIiIt9mi62f69OkkJSVx4YUXHnc/p9OJ0+n0UlT2ZRgGVVVVBAWd+O07smBZgPJiCFGRtYiIL7C8RcXlcjF9+nQmTpxYry9efzdp0iQWLVrEM888g8PhwOFwMGPGDBwOB3PmzGHgwIE4nU6+++47tm3bxsUXX0zbtm2JjIxk8ODBzJ8/v9bxjuz6cTgc/Oc//+HSSy8lPDycbt268emnn3r5LC208GF4OA12LbM6EhERqQfLE5X58+eza9cuJk+e3OKvZRgGxeWVXr8YhlHvGJ955hmGDh3KjTfeyL59+9i3b5+nFuevf/0rDz/8MBs3bqR///4UFhYyZswYvv76a9asWcMFF1zA2LFj2bVr13Ff44EHHuDKK6/kp59+YsyYMUyYMIGDBw826WfrMzbPBVclbP/W6khERKQeLG/COP/88xv0Rd4UJRVV9P7HXK+8Vk0//3MU4SH1+1HHxMQQEhJCeHg4ycnJAPzyyy8A/POf/+S8887z7BsXF8eAAQM8tx988EFmzZrFp59+ytSpU4/5GpMmTWL8+PEAPPTQQzz77LMsX76cCy64oMHn5lMMA7K3mNu5OywNRURE6sfyFhWpv0GDBtW6XVhYyF133UWvXr2IjY0lMjKSjRs3nrBFpX///p7tiIgIoqOjPdPk+7XC/VBeYG4fOnrpBhERsR/LW1S8KSw4kJ//OcqS120OERERtW7fddddzJs3j8cff5yuXbsSFhbG5ZdfTnl5+XGPExwcXOu2w+HA5XI1S4y2lr358LYSFRERn9CqEhWHw1HvLhgrhYSE1FoD6ViWLFnCpEmTuPTSSwGzhWXHjh0tHJ0Pq5mo5O+GqgoIDD72/iIiYjl1/dhQeno6P/zwAzt27CA7O/uYrR3dunXjo48+Yu3atfz4449cffXVraNlpLGytx7eNlyQ55/z8IiI+BMlKjZ01113ERgYSO/evUlMTDxmzcmTTz5JmzZtGDZsGGPHjmXUqFGccsopXo7Wh9RsUQE4tMOSMEREpP4chreG3LSA/Px8YmJiyMvLIzo6utZjpaWlbN++nU6dOhEaGmpRhP7Bb36WT/eD3F0QGguluXDR0zDoOouDEhFpfY73/X0ktahI61BeDLnVXT1dzjWv1aIiImJ7SlSkdTi4DTDM1pT21cO8czXyR0TE7pSoSOvgnugtoTu0STe31aIiImJ7SlSkdfAkKt1qJCpqURERsTslKtI6uEf8JHSD2I7mdslBKM23LiYRETkhJSrSOuTU6PpxRkJ4gnlbdSoiIramREX8n8t1uOsnvpt53aa6VUV1KiIitqZERfxfwV6oKIaAIIjrZN6nOhUREZ+gREX8n7s1pU2nw2v7xKpFRUTEFyhR8UPp6ek8/fTTVodhHzVH/LhpiLKIiE9QoiL+r+aIHzd3jYqKaUVEbE2Jivi/miN+3GrWqGjFaRER21KiYjOvvPIKqampuI748rz44ouZPHky27Zt4+KLL6Zt27ZERkYyePBg5s+fb1G0PuLIET8A0e3BEQhVZVC435q4RETkhFpXomIYUF7k/UsDFqi+4ooryMnJYcGCBZ77Dh48yJdffsmECRMoLCxkzJgxfP3116xZs4YLLriAsWPHsmvXrpb4ifm+skLI32Nu1+z6CQyCmPbmtupURERsK8jqALyqohgeSvX+6/5tL4RE1GvXNm3aMHr0aN5++21GjBgBwAcffEBCQgLnnHMOAQEBDBgwwLP/gw8+yKxZs/j000+ZOnVqi4Tv03K2mtfhCRAeV/uxNh3NGpXcndBxqPdjExGRE2pdLSo+YsKECXz44YeUlZUB8NZbb3HVVVcREBBAYWEhd911F7169SI2NpbIyEg2btyoFpVjqWvEj5tG/oiI2F7ralEJDjdbN6x43QYYO3YshmEwe/ZsBg8ezLfffstTTz0FwF133cW8efN4/PHH6dq1K2FhYVx++eWUl5e3ROS+L+c4iYpnLhWN/BERsavWlag4HPXugrFSaGgov/nNb3jrrbfYunUrPXr04JRTTgFgyZIlTJo0iUsvvRSAwsJCduzYYWG0NucZmtz96MfUoiIiYnutK1HxIRMmTOCiiy5iw4YNXHPNNZ77u3XrxkcffcTYsWNxOBzce++9R40QkhrqGvHj5k5UNJeKiIhtqUbFps4991zi4uLYtGkTV199tef+J598kjZt2jBs2DDGjh3LqFGjPK0tcgSX63Ax7fFqVPL3QmWZ18ISEZH6U4uKTQUEBLB379H1NOnp6XzzzTe17psyZUqt2+oKqpaXAZWlEBB8uB6lpvB4CI6AiiLIzYCErt6PUUREjkstKuK/PN0+Xcx5U47kcKhORUTE5pSoiP863ogfN8+aPztaPBwREWk4JSriv9wjfuoqpHVTi4qIiK0pURH/lV3HYoRH0lwqIiK25veJitGAdXakbj77M6xPoqIWFRERW/PbRCU4OBiA4uJiiyPxfe6foftn6hNK86Ew09w+3mgeT42KWlREROzIb4cnBwYGEhsbS1ZWFgDh4eE4HA6Lo/IthmFQXFxMVlYWsbGxBAYGWh1S/bkLaSPbQmjMsfdzd/2U5kHJIQhr0/KxiYhIvfltogKQnJwM4ElWpHFiY2M9P0ufUZ9uH4CQcIhIgqIss05FiYqIiK34daLicDhISUkhKSmJiooKq8PxScHBwb7VkuLmGfFTj0nc2qRXJyo7IPWkFgxKREQayq8TFbfAwEDf/LKVxqtviwqYdSq7l6tORUTEhvy2mFZauQYlKunmtUb+iIjYjhIV8T+uKji4zdyuz/o9mktFRMS2lKiI/8ndCVXlEBQKMWkn3l8tKiIitqVERfyPZzHCrhBQj9ok91wqeRlma4yIiNiGEhXxPw0Z8QMQ3Q4CgsxWmIJ9LReXiIg0mBIV8T8NKaQFs9UltoO5re4fERFbsTxR2bNnD9dccw3x8fGEhYXRr18/Vq5caXVY4ssamqiACmpFRGzK0nlUDh06xPDhwznnnHOYM2cOiYmJbNmyhTZtNDuoNIG766c+I37cVFArImJLliYqjzzyCGlpaUyfPt1zX6dOnSyMSHxe8UEozja347vV/3lanFBExJYs7fr59NNPGTRoEFdccQVJSUmcfPLJvPrqq1aGJL4uZ6t5HZUKzsj6P08tKiIitmRpovLrr7/y4osv0q1bN+bOncvNN9/MrbfeyhtvvFHn/mVlZeTn59e6iNTi6fZpQGsKqEZFRMSmLO36cblcDBo0iIceegiAk08+mfXr1/PSSy8xceLEo/afNm0aDzzwgLfDFF/SmEJaONyiUpgJFSUQHNasYYmISONY2qKSkpJC7969a93Xq1cvdu3aVef+99xzD3l5eZ5LRkaGN8IUX+JJVBrYohLWBpzR5nZu3f//RETE+yxtURk+fDibNm2qdd/mzZvp2LFjnfs7nU6cTqc3QhNfldPIRMXhMAtqM9eZdSqJPZo9NBERaThLW1TuuOMOli1bxkMPPcTWrVt5++23eeWVV5gyZYqVYYmvqqqAg7+a2w3t+gHVqYiI2JClicrgwYOZNWsW77zzDn379uXBBx/k6aefZsKECVaGJb7q0A5wVUJwuDnqp6E08kdExHYs7foBuOiii7jooousDkP8Qa3FCBuRg7sTFc2lIiJiG5ZPoS/SbDxDkxvR7QNqURERsSElKuI/Gjvix61mjYphNE9MIiLSJEpUxH80dsSPm3sF5fICcyp+ERGxnBIV8Q+GAQeqh7o3tusnOBSiUszt3B3NEpaIiDSNEhXxD8U5UJprbsd1afxxVKciImIrSlTEP7jrU2I6QEh444+juVRERGxFiYr4h8YuRngktaiIiNiKEhXxD82WqFS3qGguFRERW1CiIv4hZ6t5rRYVERG/okRF/IO7RSW+iYmKu0YlbzdUVTbtWCIi0mRKVMT3VZYdLn5t7NBkt6gUCAwx1wzK39P02EREpEmUqIjvO7gdjCoIiYKo5KYdKyDg8MRvqlMREbGcEhXxfZ5C2q7gcDT9eKpTERGxDSUq4vs8U+c3sdvHTXOpiIjYhhIV8X1NXYzwSGpRERGxDSUq4vuaa8SPm3suFSUqIiKWU6Iivs0wINs9h0ozdf24W1RUTCsiYjklKuLbCrOgLA8cARDXuXmO6a5RKToAZYXNc0wREWkUJSri29zdPrEdIDi0eY4ZFguhseZ27q7mOaaIiDSKEhXxbc094sdNdSoiIragREV8W3ZLJSrp5rXqVERELKVERXybZ8RP1+Y9bqxaVERE7ECJivi2lm5R0aRvIiKWUqIivqui5HCxa4slKjua97giItIgSlTEdx38FTAgNAYiEpr32DVrVAyjeY8tIiL1pkRFfJdnMcLuzbMYYU0xaYADKorN+VRERMQSSlTEd7VUfQpAUAhEtzO3VaciImIZJSriu9yJSnOP+HFTnYqIiOWUqIjvqtn10xLck77l7miZ44uIyAkpURHfZBiQ416MsJlWTT6SWlRERCynREV8U8E+KC8ERyC06dQyr+GZ9E01KiIiVlGiIr7J3e0T18ksfG0JmvRNRMRySlTEN3kKaVuo2wcO16jk74aqipZ7HREROSYlKuKbPEOTWzBRiWwLQaFguCAvo+VeR0REjkmJivimlh7xA+YkcqpTERGxlBIV8U3eaFEBjfwREbGYEhXxPeVFZt0ItGyLCtSYS0UtKiIiVlCiIr7HPX9KeDyEx7Xsa6lFRUTEUkpUxPd4Y8SPm2pUREQspURFfI+36lNALSoiIhZToiK+xxsjftzcNSolB6E0v+VfT0REalGiIr4nx4stKs4osxYGVFArImIBJSriW1wuyHYvRuiFFhWoUaeywzuvJyIiHpYmKvfffz8Oh6PWpWfPnlaGJHaXvxsqSyAg+HAC0dK05o+IiGWCrA6gT58+zJ8/33M7KMjykMTO3IW0cZ0h0Ev/V9qoRUVExCqWZwVBQUEkJydbHYb4Cm+O+HFzt6ioRkVExOssr1HZsmULqampdO7cmQkTJrBr1y6rQxI78+aIHzfVqIiIWMbSFpUhQ4YwY8YMevTowb59+3jggQc444wzWL9+PVFRUUftX1ZWRllZmed2fr6Gi7Y63hzx4+ZpUdllFvMGWJ7fi4i0Gpb+xh09ejRXXHEF/fv3Z9SoUXzxxRfk5uby3nvv1bn/tGnTiImJ8VzS0tK8HLFYztP148UWlZj24AiAylIo3O+91xUREeu7fmqKjY2le/fubN26tc7H77nnHvLy8jyXjIwML0colirNh4J95nZ8V++9bmCwmayA6lRERLzMVolKYWEh27ZtIyUlpc7HnU4n0dHRtS7SirgXI4xIgrBY77626lRERCxhaaJy1113sWjRInbs2MH333/PpZdeSmBgIOPHj7cyLLErK7p93DSXioiIJSwtpt29ezfjx48nJyeHxMRETj/9dJYtW0ZiYqKVYYldeUb8eLHbx01zqYiIWMLSRGXmzJlWvrz4mhwrW1Q6mdeqURER8Spb1aiIHJeVXT+qURERsYQSFfENrirI2WZue3PEj5u7RiV/L1SWHXdXERFpPkpUxDfk7oKqMgh0QmwH779+RAIERwAG5GpYvIiItyhREd/g7vaJ7woBgd5/fYfjcEFt7g7vv76ISCulREV8g6eQ1oJuHzfPEOUd1sUgItLKKFER32DFYoRH8hTUauSPiIi3KFER32DliB83taiIiHidEhXxDTVrVKziqVFRi4qIiLcoURH7KzkERVnmdkI36+JQi4qIiNcpURH7y65ejDAqFZxR1sXhHhZdmmcmTyIi0uKUqIj92WHED0BIhLlyM6igVkTES5SoiP3ZYcSPm+pURES8SomK2J+nkNbC+hQ31amIiHiVEhWxP8/QZBskKppLRUTEq5SoiL1VVcLBX81tW3T9pJvXalEREfEKJSpib7k7wVUBQWEQ3c7qaA7XqChRERHxCiUqYm+eQtquEGCD/67uFpW8DHBVWRqKiEhrYIPf/CLHYacRP2C26gQEQVU5FOyzOhoREb+nREXszU4jfgACAiEmzdxWQa2ISItToiL2ZqcRP26qUxER8RolKmJvduv6gcN1Kpr0TUSkxSlREfsqyoGSg+Z2fBdrY6kpVi0qIiLeokRF7Mu9xk9MmrnOjl145lJRi4qISEtToiL25en2sVF9CqhGRUTEi5SoiH3ZbcSPW5tO5nVhJlSUWBuLiIifU6Ii9mXHET8AYW0gJMrczt1lbSwiIn5OiYrYlx1H/AA4HKpTERHxEiUqYk+V5YdrQOzWogKqUxER8RIlKmJPh7aDUQUhkRCVYnU0R9NcKiIiXqFEReypZn2Kw2FtLHXRXCoiIl6hREXsyV2fYrcRP26qURER8QolKmJPnhYVmxXSutWsUTEMS0MREfFnSlTEntyz0iZ0tTaOY4ntYF6XF0DJIWtjERHxY0pUxH4Mw75Dk92CwyAy2dw+tN3aWERE/JgSFbGfogNQmgc4IM5GixEeSXUqIiItTomK2I+7PiW2AwSHWhvL8WguFRGRFqdERezH7t0+bppLRUSkxSlREfux+4gfN0/Xzw4roxAR8WtKVMR+7D7ix80z6ZtaVEREWooSFbEfX+v6ycsAV5WloYiI+CslKmIvFaWHWyjsnqhEpUBgCLgqIX+P1dGIiPglJSpiLwd/BQxwxkBEotXRHF9AwOGJ31SnIiLSIpSoiL14un1suhjhkbQ4oYhIi1KiIvaSU2PVZF+gSd9ERFqUbRKVhx9+GIfDwe233251KGIl99DkeJuP+HHTpG8iIi3KFonKihUrePnll+nfv7/VoYjVsn20RUWTvomItAjLE5XCwkImTJjAq6++Sps2bawOR6xkGJCz1dyO95FERTUqIiItyvJEZcqUKVx44YWMHDnyhPuWlZWRn59f6yJ+pDALyvIxFyPsbHU09eNuUSk6AOVFloYiIuKPGpWovPHGG8yePdtz+y9/+QuxsbEMGzaMnTvr3wQ+c+ZMVq9ezbRp0+q1/7Rp04iJifFc0tLSGhy72FiOjyxGWFNYLITGmNsqqBURaXaNSlQeeughwsLCAFi6dCnPP/88jz76KAkJCdxxxx31OkZGRga33XYbb731FqGh9ftSuueee8jLy/NcMjIyGhO+2JWvrPFzJNWpiIi0mKDGPCkjI4OuXc1RGR9//DGXXXYZN910E8OHD+fss8+u1zFWrVpFVlYWp5xyiue+qqoqFi9ezHPPPUdZWRmBgYG1nuN0OnE6nY0JWXyBuz7FVwpp3WI7wr4fVaciItICGpWoREZGkpOTQ4cOHfjqq6/405/+BEBoaCglJSX1OsaIESNYt25drfuuu+46evbsyd13331UkiKtgK8NTXbTXCoiIi2mUYnKeeedxw033MDJJ5/M5s2bGTNmDAAbNmwgPT29XseIioqib9++te6LiIggPj7+qPullfC1yd7cNJeKiEiLaVSNyvPPP8/QoUM5cOAAH374IfHx8YDZnTN+/PhmDVBaicrywy0SvjI02U01KiIiLcZhGIZhdRCNlZ+fT0xMDHl5eURHR1sdjjTFgU3w/KkQEgn37PaNdX7csrfCcwMhOBz+tte3YhcRsUBDvr8b1aLy5Zdf8t1333luP//885x00klcffXVHDp0qDGHlNauZn2Kr33Rx6YBDqgohqJsq6MREfErjUpU/vznP3smW1u3bh133nknY8aMYfv27Z7CWpEG8dX6FIAgJ0SnmtuqUxERaVaNKqbdvn07vXv3BuDDDz/koosu4qGHHmL16tWewlqRBsn2sanzj9QmHfL3mHUqaYOtjkZExG80qkUlJCSE4uJiAObPn8/5558PQFxcnKa1l8bxtKj42NBkN8+aP9utjUNExM80qkXl9NNP509/+hPDhw9n+fLlvPvuuwBs3ryZ9u3bN2uA0kp4alR8uEUFNJeKiEgza1SLynPPPUdQUBAffPABL774Iu3atQNgzpw5XHDBBc0aoLQCRTlQctDcju9ibSyNpblURERaRKNaVDp06MDnn39+1P1PPfVUkwOSVsjd7RPdHkIirI2lsTSXiohIi2hUogLmujwff/wxGzduBKBPnz6MGzdOU99Lw2X7eH0KHK5RydsNVRUQGGxtPCIifqJRicrWrVsZM2YMe/bsoUePHgBMmzaNtLQ0Zs+eTZcuPtp8L9bI8fH6FIDIthAUCpWlZrIS18nqiERE/EKjalRuvfVWunTpQkZGBqtXr2b16tXs2rWLTp06ceuttzZ3jOLvsn101eSaAgIgtoO5rToVEZFm06gWlUWLFrFs2TLi4uI898XHx/Pwww8zfPjwZgtOWokcH101+Uht0iF7s+pURESaUaNaVJxOJwUFBUfdX1hYSEhISJODklakqhIOVs894sstKlBjLpUdloYhIuJPGpWoXHTRRdx000388MMPGIaBYRgsW7aMP/zhD4wbN665YxR/lrsTXBUQFGaO+vFlmktFRKTZNSpRefbZZ+nSpQtDhw4lNDSU0NBQhg0bRteuXXn66aebOUTxazUXIwxo1H9H+9BcKiIiza5RNSqxsbF88sknbN261TM8uVevXnTt6uM1BuJ9vj51fk2eFpUdVkYhIuJX6p2onGhV5AULFni2n3zyycZHJK2Lr0+dX5O7RqXkIJTmQ2i0tfGIiPiBeicqa9asqdd+Doej0cFIK5TjB0OT3UKjzSHKubvgp3fh1ButjkhExOfVO1Gp2WIi0myy/WRostuwW+GLu2Dx43DyNRAcZnVEIiI+zcerF8WnleZBUZa57S+JyinXQkwHKMyEFa9ZHY2IiM9ToiLWcc9IG5nsP/UcQU4468/m9ndPQVmhtfGIiPg4JSpiHc+IHz+oT6lpwHho0wmKs2H5K1ZHIyLi05SoiHX8rT7FLTAYzv6rub3kGbOLS0REGkWJiljHX1tUAPpdAQndoTQXlr1odTQiIj5LiYpYx5/mUDlSQCCcfY+5vfR5KD5obTwiIj5KiYpYw1UFOdvMbX+YlbYuvS+Btn2hLB+WPmd1NCIiPkmJilgjLwOqyiAw5PCMrv4mIOBwq8qyl6Ao29p4RER8kBIVsYZ7aHJcZ7ObxF/1vBBSToKKInO4soiINIgSFbFGjp+O+DmSwwHn/j9ze8V/oCDT2nhERHyMEhWxRrYfj/g5UteR0P5UqCyFb5+wOhoREZ+iREWskePHI36O5HDAuX83t1fNgNwMS8M5LsOwOgIRkVqUqIg1sv1o1eT66HQWpJ8BVeXw7eNWR1O3n96DfyXDytetjkRExEOJinhfWSEU7DW3/b1Gxc3hgHOqW1XWvAkHt1sbz5H2b4BP/2h2T339oNYoEhHbUKIi3pdT3ZoSngDhcdbG4k0dh0KXc8FVCYsetTqaw8oK4L2JZpICUHIQVmrlZxGxByUq4n05razbp6ZzqkcA/TTzcEGxlQwDPr/DrBmKSoXzHjTvX/IslBdbG5uICEpUxAr+uhhhfbQfCN1Hg+GChQ9bHQ2sfgPWvQ+OQLhiOpx2szkBX3G2alVExBaUqIj3+fNihPVxzt/M6/Ufwv6frYsjcx188Rdze8Q/oMNp5srPZ9xp3rfkGagosS4+ERGUqIgV/HkxwvpI6Q+9xgEGLHzImhhK8826lKoy6DYKht16+LEB4yGmAxRlwao3rIlPRKSaEhXxLsOosRhhK01UoLpVxQEbP4N9P3r3tQ0DPrsNDm6D6PZw6UvmukRuQSFwxh3m9pKnoaLUu/GJiNSgREW8K3+vue5NQBC0Sbc6Gusk9YJ+l5vbC7zcqrLyNdjwkfkeXDG97pFXJ02A6HZQsA/W/M+78YmI1KBERbzLXZ/SJt2sh2jNzvorOAJg85ewe6V3XnPvWviyekXnkfdD2ql17xfkhNOrW1W+ewoqy7wRnYjIUZSoiHe19vqUmhK6mvUgAN/8X8u/XmkevD/RnB23xxgYOvX4+5/8O4hKgfw9sPatlo9PRKQOSlTEuzyLEbbCocl1OesvZhfMrwtg5/ct9zqGAZ9MhUM7zELZS14wZ8s9nuBQGH67uf3tk1BZ3nLxiYgcgxIV8a7WtBhhfbRJN1suAL75V8stCrj8Fdj4KQQEwxUzIKxN/Z43cCJEJEFehjlJnYiIl1maqLz44ov079+f6OhooqOjGTp0KHPmzLEyJGlprW0xwvo48y4IDIGd38H2Rc1//D2rYG71OkPnP2hOOldfwWEw/DZze/HjUFXR/PGJiByHpYlK+/btefjhh1m1ahUrV67k3HPP5eKLL2bDhg1WhiUtpaLE/Msc1KJSU0x7GHiduf3N/zVvq0rJIXh/ErgqoNdYGPKHhh9j0GSISITcneYKyyIiXmRpojJ27FjGjBlDt27d6N69O//617+IjIxk2bJlVoYlLSVnG2BAaAxEJFgdjb2c8ScICoXdK2DLvOY5pmHAx1Mgd5c5Lf64505cl1KXkHAY9kdz+9vHoaqyeeITEakH29SoVFVVMXPmTIqKihg6dGid+5SVlZGfn1/rIj6kZn1KY74w/VlUMpx6o7m9oJlqVZa9AJtmm91KV74BYbGNP9ag6yEsDg7+ak79LyLiJZYnKuvWrSMyMhKn08kf/vAHZs2aRe/evevcd9q0acTExHguaWlpXo5WmkT1Kcc3/HYIjoB9a+GX2U07VsYKmPcPc3vUQ5B6ctOO54yEYdXDmRc/Bq6qph1PROyvNA9yM1quyL+eLE9UevTowdq1a/nhhx+4+eabmThxIj//XPdCbffccw95eXmeS0ZGhpejlSbJacWrJtdHRAKcVl1DsuBf4HI17jjFB+GD68BVCb0vgcE3NE98p95kjhbK2QIbZjXPMUXEvjZ9CU/3hbd/a2kYlicqISEhdO3alYEDBzJt2jQGDBjAM888U+e+TqfTM0LIfREfkt3KV02uj6FTwRkNWT/Dz41IBlwu+Phms2g5rjOM+3fzdbM5o+C0Keb2okcbn0iJiG/YUz1jdnwXS8OwPFE5ksvloqxM03X7HcOAnOquH434ObbwuMMzxi58uOFdLEv/bU7JH+iEK96A0GZO5ofcBM4YyN4EGz9p3mOLiL24l/Zo14ApDVqApYnKPffcw+LFi9mxYwfr1q3jnnvuYeHChUyYMMHKsKQlFGZBWb65tk1cZ6ujsbfTbja7WLI3w7r36/+8Xctg/gPm9uiHIaV/88cWGmPGB2pVEfFnlWWQuc7cbs2JSlZWFtdeey09evRgxIgRrFixgrlz53LeeedZGZa0BHd9SmwHc2p2ObbQaBh2q7m9cFr9JlkryoH3rwOjCvpefnhelpZw2h8Od0/98nnLvY6IWCdznTn/Uni85SvdB1n54q+99pqVLy/epMUIG+bUm2Dp8+baPGvfNqeyPxaXC2bdBAV7zULlsU+37PDvsDYw5Pfm6J9Fj5oTyWm4uYh/2bPKvG430PLPt+1qVMRP5WhocoM4I81J4MBMCCqPU7e15CnYOt+cMO6KN8yi15Z22i0QEgn718EmLXsh4nc89SmDrI0DJSriLdkamtxggyZDVIo5gmf1f+veZ8cSc9p9gDGPQXJf78QWHnd4grpFD1s+z4KINLM99iikBSUq4i05GprcYMFhcMad5vbix821kmoqPAAfTAbDBf2vOrwKs7cMnQrB4bDvR9jylXdfW0RaTvFBcxZqgHanWBsLSlTEGyrLzFoLUI1KQ51yLUS3h8JMWPn64ftdVfDRjeb9Cd3hwie8348ckXB4MrlFj6hVRcRf7FltXsd1MVtPLaZERVrewe3mX/0hkeaaNlJ/QU446y/m9ndPQVmhuf3tE/DrAggKq65LibQmvmF/NGPYswq2fW1NDCLSvGzU7QNKVMQbak6dr9EhDXfS1ebwwKIDsPwV2L7YHLYMZktK27rXxvKKyCSzlgZgoVpVRPyCe8RPe+sLaUGJiniDps5vmsBgOOuv5vb3z8KHN5gtVCdNgJNtMDni8FvNEUe7l8OvC62ORkSawjBsNeIHlKiIN2jq/Kbrf6X58ys5BIX7IbEXjHnc6qhMUckwcJK5rVoVEd92aAeUHITAEO+NIjwBJSrS8jwtKhqa3GgBgXDOPeZ2cARc+QaEhFsbU03DbzN/se1aCju+szoaEWksd7dPcj+zRs4GLJ2ZVlqJHM1K2yz6/MYcQZXQHRJ7WB1NbdGp5gilFf8xW1U6nWF1RCLSGDZZiLAmtahIyyrKMbsrwPKlwn2ew2EW1tqkwO0ow2+HgGDY8S3s/N7qaESkMTxT59vn94wSFWlZ7taU6PYQEmFtLNKyYtPg5GvM7UWPWBuLiDRcZbk5gSPY6g8iJSrSslSf0rqcfgcEBJmjf3b9YHU0ItIQ+9dDVRmExkJcZ6uj8VCiUoeDReU89MVG5m7ItDoU36f6lNalTUcYMN7cXvyotbGISMPYaMXkmpSo1OHNZTt5ZfGvPPrlL1RWuawOx7dla9XkVueMO8ERaK7ovHuV1dGISH3VTFRsRIlKHa4bnk6b8GC2HShi1po9Vofj23K0anKrE9cJBlxlbnurViV/Lyx7EdZ/6J3XE/FHNpuR1k2JSh2iQoO55Wzzi/Xp+Vsoq6yyOCIfVVVprvMD5pBaaT3OuBMcAbBlLuxd0zKvUVYIP86E/14CT/aGL/9qriadub5lXk/En5XkQvZmc1stKr7hd0M70jbayZ7cEmYuz7A6HN+UuxNcFeaiddHtrI5GvCm+C/S7wtxe9FjzHddVBdu+gY9+D493h1m/NxdnxICwNuY+y15ovtcTaS32Vq+YHNvRXBndRpSoHENocCC3jjDrKv79zVaKyystjsgHZdfo9gnQf7VW54y7AAdsmg37fmrasfZvgK/uhaf6wP8uhZ9mQkWROTLh7L/BrWthwgfmvj+9BwUqhBdpEJt2+4ASleO6clAaHeLCyS4sY/qSHVaH43tyNDS5VUvsDn0vM7cbMwKoYD98/xy8dDq8OMxckLFgnzl0ctD1cP08+ONqOPtusy6m/SBIO81sxVv+arOeiojf222/id7clKgcR3BgAH86z6yteHnRNvKKKyyOyMe4+zs1NLn1OrO6VWXjZ2aryImUF8NP78Obl8GTPeGrv0PmOnPG254XwW/fhLs2w0VPQtqpRw+hHDrFvF75GpQXNfvpiPglw7DtiB9QonJCYwek0qNtFPmllbzy7Tarw/EtGposSb2g98Xm9uJj1Kq4XLB9MXx8CzzeDT66wRzabLig/WC48AkzObnqLeg19vgLpfW8ENqkm8s2/PhOs5+OiF/Ky4CiLHOyxpT+VkdzFCUqJxAY4ODO881Wlde/28GBgjKLI/IhGposAGf9xbze8DFk/XL4/qxfYP798HQ/eGMsrH0LygvNYr6z7ja7dW6YD4NvgPC4+r1WQCCcdou5vfQFMwkSkeNzL0TYtg8Eh1kbSx20enI9nNe7LQPSYvkxI5fnF2zl/nF9rA7J/kpyoeiAua1EpXVr28dsCdn4GXzzIKSfYbZ27Ft7eB9nDPS9FPpfBR1Oa9qsmCdNgAX/goPbYPOX0HNMk09BxK/ZcCHCmtSiUg8Oh4O/jOoBwNs/7GL3oWKLI/IBOdXdPpHJEBptbSxivTOrW1V++Ry+vNtMUgKCoPtouOINs2tn7DPQcWjTp+52RsLA68ztpc817VgirYGNR/yAEpV6G941gWFd4imvcvHs11usDsf+PIsRqj5FMPu9+11pbqeeAqMfgzs3wdUzoc8lEBzavK835PdmIrRzCexZ3bzHFvEnVRWwd625bcNCWlCi0iB3VbeqfLBqN9sOFFocjc2pPkWOdMmL8Odf4aYFMOSmlp1UKjr18NDopc+33OuI+LqsjVBZAs5o247QVKLSAKd0aMPIXm1xGfDkvM1Wh2NvalGRIwUGQUS8915v6FTzesMsyNXs0iJ12lNdSJt6sm0n5rRnVDZ25/ndcThg9k/7WL8nz+pw7Mtdo2LTDF1agZT+0OlMMKpg+ctWRyNiTzavTwElKg3WKyWacQNSAXjiq00WR2NTrirIqZ5zRrPSipXcrSqr3oDSfGtjEbEjG89I66ZEpRHuGNmdwAAHCzYdYMWOg1aHYz95GVBVBoEh5pwYIlbpep65cndZPqx50+poROylNB8OVM9tZNNCWlCi0ijpCRFcOSgNgMe+3IRhGBZHZDPuGWnjOpsTcIlYJSDg8ARwy16EKi0uKuKxby1gQEwaRLW1OppjUqLSSLeN6EZIUADLdxxk8ZZsq8OxF434ETsZcBWEx0PeLtj4qdXRiNiHe0ZaG7emgBKVRkuOCWXiULNb47G5v6hVpSaN+BE7CQ4zp+EHcwI4fVZFTDZeiLAmJSpNcPPZXYkICWT9nny+XJ9pdTj24WlRUaIiNjH4Bgh0mr+YM36wOhoRe/CBET+gRKVJ4iJCuOGMzgA8/tUmqlz6Sw2osWpyd2vjEHGLTIL+1TPjalp9EcjbAwX7wBEIKQOsjua4lKg00Q1ndCI2PJhtB4qYtWaP1eFYr6wQCvaa2xqaLHbiHqq88XM4+Ku1sYhYzd2aktQbQiKsjeUElKg0UVRoMLec3QWAp+ZtpqyyyuKILOae6C08AcLaWBuLSE1JPc3hyhiw7CWroxGxlntG2vb2rk8BJSrN4tqh6bSNdrInt4R3V7TyqbpVSCt2NnSKeb3mTSg5ZG0sIlba7RuFtKBEpVmEBgfyx3PNL+Znv95KcXkrnqtBQ5PFzjqfDW37QkURrJphdTQi1nBVwd415raNZ6R1U6LSTK4clEaHuHCyC8uY8f0Oq8OxjlpUxM4cjsOtKj+8DJXl1sYjYoUDv5jJekgkJPawOpoTUqLSTEKCArjjPPPL+aWF28grqbA4IotoaLLYXd/LITLZHPGw4SOroxHxPnchberJPjF7uBKVZjRuQDu6t40kv7SSVxe3wlEFLleNxQiVqIhNBYXAqTea25oATlojH5mR1s3SRGXatGkMHjyYqKgokpKSuOSSS9i0yXdXJA4McHDn+WYz2utLtnOgoMziiLysYC9UFENAELRJtzoakWMbNBmCwyFzHWxfbHU0It7lIzPSulmaqCxatIgpU6awbNky5s2bR0VFBeeffz5FRUVWhtUk5/duy4D2MRSXV/HCwq1Wh+Nd7vqUNukQGGxpKCLHFR4HJ00wt5c+b20sIt5UXgRZP5vbNp+R1s3SROXLL79k0qRJ9OnThwEDBjBjxgx27drFqlWrrAyrSRwOB38e1ROAt5btYk9uicUReZF7DhXVp4gvOO1mwAFb5sIB323JFWmQvWvBcEFUKkSnWh1NvdiqRiUvLw+AuLi4Oh8vKysjPz+/1sWOhneNZ2jneMqrXDw7f4vV4XiPZ8SPhiaLD4jvAj0vNLeXvWBtLCLe4un2OcXaOBrANomKy+Xi9ttvZ/jw4fTt27fOfaZNm0ZMTIznkpaW5uUo68fhcHDXKLNW5YPVu9l2oNDiiLxEI37E17iHKv84E4qyrY1FxBs8M9L6RrcP2ChRmTJlCuvXr2fmzJnH3Oeee+4hLy/Pc8nIsO8ssAM7tmFkrySqXAZPzdtsdTje4VmMUImK+IgOQyH1FKgshRWvWR2NSMvzoRlp3WyRqEydOpXPP/+cBQsW0L59+2Pu53Q6iY6OrnWxM/cIoM9/2seGvXkWR9PCKkogrzpxVIuK+IqaE8CteBUqSq2NR6QlFWRC/m7AYc6h4iMsTVQMw2Dq1KnMmjWLb775hk6dOlkZTrPrlRLNuAFmsdITX/l5q0rONsCA0BiISLA6GpH6630JxKRB0QH46V2roxFpOZ4Vk3uBM8raWBrA0kRlypQpvPnmm7z99ttERUWRmZlJZmYmJSX+M1LmjvO6Exjg4Jtfsli546DV4bScmvUpDoe1sYg0RGAQDPm9ub30eU0AJ/7LM9Gb7xTSgsWJyosvvkheXh5nn302KSkpnsu77/rPXzWdEiK4cpDZnfXo3E0Y/vpLUPUp4stOuRZCoiB7E2ydb3U0Ii3DM+LHdwppwQZdP3VdJk2aZGVYze6P53YjJCiA5dsP8u0WPx1ZoFWTxZeFxsDAieb20uesjUWkJbhch1dM9qERP2CTYlp/lxobxu9O6wjAY/7aquKZQ6W7tXGINNaQ34MjEH5daE6tL+JPcrZAWb65dERiL6ujaRAlKl5yy9ldiAgJZN2ePOZuyLQ6nOZlGDUSFXX9iI+K7QC9Lza3l2oCOPEz7vqUlJPMuiwfokTFS+IjnVx/ujmq6fGvNlPl8qNWlcL9UF4AjgCI62x1NCKNN3Sqeb3ufcjfZ20sIs1pj28W0oISFa+64czOxIQFszWrkI/X7LE6nObjbk2J7QBBTmtjEWmK9gPNSeBcFea8KiL+wl1I62P1KaBExauiQ4O5+ewuADw1fzPllS6LI2ommjpf/IlnArjXzJVmRXxdRQns32Bu+9iIH1Ci4nUTh6aTGOVk96ESfvfaD/y0O9fqkJpOQ5PFn/QYA206QWkurH3b6mhEmm7fT+CqhIgkiDn27O92pUTFy8JCAvnnuD6EBAXww/aDjHtuCbe+s4aMg8VWh9Z4Gpos/iQgEE67xdxe9gK4qqyNR6Spai5E6IMTcipRscDofil8c+dZ/ObkdgB8+uNeRjyxiP/7/Gdyi8stjq4RNOJH/M3JEyA0Fg7+CpvmWB2NSNP46Iy0bkpULNK+TThP/vYkPv/j6QzvGk95lYv/fLedMx9dwCuLt1Fa4SN/xVWWQe5Oc1s1KuIvQiJg0GRze+nz1sYi0lQ+OiOtmxIVi/VtF8Ob1w/hjcmn0jM5ivzSSh764hdGPLGIj9fswWX3YcwHt4PhgpBIiEq2OhqR5nPqTRAQDLu+P/yLXsTXFGUf/mNSLSrSWA6Hg7O6JzL71jN47PL+JEeHsie3hNvfXcu457/j+602nna/Zn2KD/Z9ihxTdAr0u9zcVquK+Cp3t09Cd3OpCB+kRMVGAgMcXDEojQV3nc2fR/Ug0hnE+j35XP2fH5g0fTm/ZOZbHSJ7ckv4eM0efvg1x1wKQPUp4s/cQ5U3fAy5GZaGItIoPt7tA+Bb8+i2EmEhgUw5pytXDU7j399s5c1lO1m46QCLNx/g8oHt+dN5PUiOCfVKLLnF5SzdlsN3W7NZsjWbHTmHRyed2imO58LXkwSqTxH/lNwPOp0F2xfBDy/BqH9ZHZFIw3hG/Ay0No4mUKJiY/GRTu4f14dJw9J5dO4vfLEuk/dW7ubTH/dy/emd+MNZXYgKDW7W1yytqGLljkOexGT93jxqrqEYGOCgd0o0m/YXsHz7QTJCfiIpAH41UtDk+eKXhk41E5XV/4Wz7obQaKsjEqkfw6jRoqJERVpQekIEL0wYyOpdh3ho9kZW7jzE8wu28c7yDG4b0Y3xp3YgJKhxvXhVLoN1e/JYUp2YrNx56KgZc7slRTK8awLDuyYwpHMc0aHB7Msr4YUF2+i8xlwPZepXBSRuX86fzuvOgLTYpp6yiH10HQkJPSB7E6yaAcNvtToikfrJ2QaleRDohLZ9rY6m0RyGYdh8WMmx5efnExMTQ15eHtHRreOvHMMw+Orn/Twy5xd+zTan906PD+fuC3pyQd9kHCcoaDUMg+3ZRSzZms13W7NZui2H/NLKWvskR4dWJybxDO+aQNvoY3QzFeXAY2Y7St/y6RS6zHV+RvZqyx3ndaNPqm8WbokcZdUM+Ow2CAiCsc/AyddYHZHIif04E2b9HtqfCjfMszqaWhry/a0WFR/jcDgY1SeZc3sm8e6KDJ6ev5kdOcXc/NZqTu4Qy9/H9GJQelyt52QVlPL91sN1JvvySms9HhUaxNDO8Z5Wky6JESdMeIDDI36i2zN74iie/Xors9bsZv7G/czfuJ/RfZO547zudG8b1VynL2KNk66B7Yth/YfwyRTI2Qrn/gMCNB5BbMyHFyKsSS0qPq6wrJJXFv/Kq4t/paR6krhRfdoydkAqq3YeYsnWbDbvL6z1nJDAAAZ2bMPp3RIY1iWefu1iCApsxC/c1f+DT6dC57Ph2k8A2HagkGfmb+Gzn/ZiGOaI5bH9U7ltZDe6JEY29XRFrONywcJpsPhR83avcXDpyxASbm1cIsfyyjmwdzVc9trhofYNdLConLiIkGYOrGHf30pU/ERWfilPzd/MuysyOHKOOIcD+qRGM7xrAqd3TWBQxzjCQgKb/qJf3QvfPwuDb4QLH6/10KbMAp75ejNfrMsEIMABl5zcjttGdKNjfETTX1vEKj/OhE+mgqsCUk+B8TMhqq3VUYnUVlkGD7Uz/5/euhbiOjX4EGszcpnw6jL+Oronvxua3qzhKVFpxbbsL+CJrzazPbuIgeltOL1rAkM7x9OmBTJi3hkPm76A0Y/BkJvq3GXD3jyemreF+Rv3A+aooctPac8fR3SlfRv9JSo+ascSeHcClByCmDS4+l1o28fqqEQO270S/jMCwuPhz9saPCFnxsFiLn1hCdmF5ZzTI5HXJg4mIKD5JvVUoiLe8e9BZp3K72ZBl3OPu+uPGbk8NX8zCzcdACA40MFvB6cx9ZxuXpsTRqRZ5WyDt68061VCouCK6dDtPKujEjEtewm+vBu6nQ8T3m/QU/NKKrj8xe/ZklVIr5Ro3v/DUCKdzVvS2pDvb1WCSeNUVcCh7eZ2PSZ7G5AWy4zrTuXDm4dyetcEKqoM3ly2izMfW8D9n24gq6D0hMcQsZX4LnD9PEg/A8oLzKRl+atWRyViauSMtBVVLqa8tZotWYW0jXby+qRBzZ6kNJQSFWmcQzvBVQlBYRDdrt5PG9gxjjdvGMLMm07j1E5xlFe6mPH9Ds58dAEPfbGRnMKyFgxapJmFx8E1H5mjggwXfHEXzLkbXD6y+rn4r0bMSGsYBv9v1nq+25pNeEggr00cTEpMWAsFWH9KVKRxai5G2Ighmqd1jufdm07jzeuHcHKHWEorXLyy+FfOeHQBj375C6t3HeJQUTk+3DMprUVQCFz8HIy4z7z9w0tm/VZZgbVxSetVfBAO/mpup9Z/xeSXFv3KuyszCHDAv8efTN929pgLS/OoSON4FiPs2uhDOBwOTu9mTiy3cPMBnvxqM+v25PHCwm28sHAbANGhQXRKiKBjfATp8eGk19iOiwip33wvIi3N4YAz/gRxnc0JtrbMhdcvMItsY9pbHZ20NntWm9dxXcxWv3qY/dM+HvnyFwDuG9uHEb3sM5JNiYo0jqdFpemLETocDs7pkcTZ3ROZ9/N+/rdsJ1uzCtmXV0p+aSU/7s7jx915Rz0vKjSI9PgI0hPMxKVjfASdEszreC8kMWWVVRSUVlZfKjzXcRFOBnVs06wV8uIj+lxijgJ65yrYvx5ePdccvtyu/n/VijSZp9unfvUpq3Ye4o731gJw3fB0Jg5Lb5m4GkmJijRO9lbzOqH5Vk12OByc3yeZ8/skA+YCiTtzitmRU8TOnCK2ZxezM6eIHdlF7M0rpaC0knV78li3p44kxhlEx+qkJT0+vEZCE0FCZAhlla4jEozD2/l13FdQVvu+/NLKo9ZEqqlzQgQTTuvI5QPbExPWvAtHis21Hwg3fg1vXwVZG2D6GPjNK9B7nNWRSWvRgIUId+UUc9N/V1Je6WJkryT+34W9Wzi4htPwZGmcx7pC0QG4cYElfy2WVlSx62AxO7KL2JlTzPbqZGZHdjF780o43v/qwAAHVUfOitcEkc4gokLNS6QziM37CyksM9dPCg0O4JKT2nHNaR1t098rXlKaDx9Mhq3Va6yMfACG39bg+SxEGsQw4NHOUHIQbvjmuMW0ecUV/ObFJWw7UESf1Gje+/1QIrw0wkdr/UjLKsk1kxQwi2ktEBocSPe2UXWuI1RaUcXuQ8WeFpjt1cnMjpwi9uSW1EpSaiYZUaHBta6jPddHP+bejnQGEXhEF09RWSUfr93D/5bu5JfMAmauyGDmigxO7hDLtUM7MrpvCqHBzTAzsNhbaLTZ7fPlX2HFqzD/Pji4DS58EgLVyiYt5NB2M0kJDIHkY6+YXF7p4ua3VrHtQBEpMaG8Pmmw15KUhrJnVGJvOdXdPpHJ5i9jmwkNDqRrUhRdk45OYsoqqzhYVE54SFCdSUZziHAGMWFIR64+tQMrdx7if0t3Mmf9PtbsymXNrlwe/HwjVw5KY8KQDqTFaXZevxYYZC4vkdDNTFhW/xcO7YAr/wthbayOTvyRu5A2uR8EOevcxTAM/j5rHd9vyyGiehhy22j7TrypREUazjPip/nqU7zFGRTotXkBHA4Hg9PjGJweR1ZBL95bkcHbP+xib14pLy3axsuLt3FujySuGdqRs7olqvjWnw35PbRJN7uCti+G1843RwTFdbY6MvE3u6sLaY8z0dsLC7fx/qrdBDjguQmn0DvVfn9w1qR5VKThas6hIvWSFBXK1HO7sfgv5/DK7wZyRrcEDAO+/iWL66av4OzHF/LK4m0cKiq3OlRpKd1HweQvzQkSszfDf0bCrmVWRyX+xj3i5xiFtJ/+uJfH5m4C4IGL+3JOjyRvRdZoSlTqUlUJ8x+ArI1WR2JPPtyiYrWgwADO75PM/64fwjd3nsXk4Z2ICg1i18FiHvriF4ZM+5o73/uRtRm5VocqLSG5H9z4DaScBMU58MZY+Klh67CIHFNlOez7ydyuY2jyyh0Huev9HwG44fRO/O60jt6MrtGUqNRl4TT47klzdsnig1ZHYz/uGpVmmEOlNeucGMk/xvbmh7+N4JHL+tEnNZryShcfrt7NJc8vYdxz3/HeygxKKzQdu1+JSobrvoCeF0FVOXx0Ayx8mOMOVROpj/3roaoMQmOP6lbcmVPETf9bRXmli/N7t+WeMb2sibERNDy5LkU58OrZkLsLOp8DEz4wi+LEXMPkXynmh+HWNepjb0aGYbAmI5c3l+7k85/2UV5lztMSExbMlYPaM2FIR9ITIup9vPJKF0VllRSVV1JUVlV9Xb1dVklxeSWFZVXV15UUl1VRUeXilI5tuKBvMgmRdRfiSTNxueDr+2HJM+btvpdB99FgVJnraLmqrw3XEberqrdr3q40j1fr8SOeGxQKid0hqTck9jRnzNVQaf+y/FVzvakuI+B3H3nuzi0u5zcvfs+vB4ro1y6Gd39/GuEh1n6nNeT7W4nKsWSuh9fOg4piGDoVRv2reY/vizLXwbz7YNvXEOiEv++DAA2zbQk5hWW8t3I3b/2wk92HSjz3n9k9kV4pURRXJxvuJKSwOvGomZBUVDX+ox3ggCGd4hnTL5lRfZNJirLviAA397DzlhjJ1aJWvQGz/2QmFN7kjIbEHpDUCxJ7mddJvSCyrRIYXzXrD/DjO3DW3XDO3wDzD5bfvfYDP2w/SGpMKB9PGU6SDUb4KFFpLhtmwfuTzO1LX4YBVzX/a/iCQzthwb/gp/cAAwKC4Pz/g9Nutjoyv1flMli0OYv/Lt3Jos0HGtU7EBIUQKQziAhnIBEhQUQ4gwgPCSTSGVQ9TDuQcKc5XLuiysU3v2TxU40lCxwOGJwex5i+yYzul2KbYYwul8Gm/QUs2ZrNkq3ZLN9+EANzwcszuiVwRrdEuiRG+MZ6UNu/he//bbZUOgLNz1hAIDgCDm8HBFU/FlBj2/1YYPXtmvsdcbssHw78Ytbe5Ww9dmIU1qY6cel5uPUlqTdExHv3ZyIN9+9B5mCHq9+D7qMwDIM73/+Rj1bvIdIZxAc3D6Vnsj1G+ChRaU5fPwjfPm62IEz+snWt2VGUA98+YU5WVVU9GqXPb+Dc/wfxXayNrRXamVPER6v3UFhWSYQziIiQQPO6RgJS6/6QIMKdgQQHNrwULeNgMXPW7+OLdZm1CnsdDhjYoQ1j+qUwul+y15eAzzhYbCYm23L4fms2OScYJZUSE+pJWoZ3TSAuIsRLkdrD7kPFfPbjPj77cS9ZBaWc2S2R0f1SOKNzNKF52+HARsj6BbJ+NpOYg7+a3UV1iUg8uvUlsSeExXr1nOQYSnLhkeri2D9vg4gEnv16C0/O20xggIPXJw3mrO6JloZYkxKV5uRywcyrYfMciEqFmxZClH1WlWwR5cWw7AWz77ws37yv05nmFOCtKVETAPbkljBn3T6+WLeP1btyaz12SofY6qQlhXaxzZ+05BSW8f22HL7fls13W7PJOFhS6/Gw4EBO7RTH8K7xDOuSgMMB323J5tst2SzfcbDWekwOB/RNjeH0bgmc0S2BgR3b4Azyv67LAwVlfLFuH5/+uJdVOw/VuU9ESCAjerVlTL8Uzu6ReHim5IpSc+h01sbaSUzuzmO/YFSq2fqSNsSss9FoQGts+wb+d6k5X89tP/Lxmj3c/u5aAB66tB9XD+lgaXhHUqLS3Erz4T8jzA9w2hCY+NkxZ/zzaVWVsPZNWDANCjPN+5L7mQlKl3PVby3syythzrpM5qzfx8qdh2p1RQ1Ii+XCfsmM7pvS6Bl3i8oqWb79oKfVZOO+/FqPBwU4OCktlmFdExjeJZ6TO7QhJKjuFqPSiiqWbz/It1sO8O2WbH7JLKj1eFhwIEM6x3FGt0TO7JZA16RI3+gmqkNeSQVz12fy2U97WbI1G/cqEQ4HnNYpnnEnpdIxPpx5P+9nzrpMMvNLPc8NDwnknJ5JjOmbwjk9E+susiwrhOxNtVtfsn6B/N1H75vcH/pdbiYtMe1b6IzlKIsfg2/+D/pexvKBj3PNf36gvMrF78/sbMsRPkpUWkL2VnPJ9rI8OGUijH3Gf764DQN++dycO8Y9mVtsBzj3Xuh7udknLnKE/fmlfLk+k9nr9rFix8FaSUv/9jGM7pvCmH7JdIw/9kil8koXazNyWbI1m++3ZbNmVy6VRywY2TM5iuFdExjeNZ5TO8UT2cj1SLLyS/luazbfbclm8ZZssgvLaj3eNtrJGd0SOaNbAsO7Jth+1FNJeRXzN+7n0x/3smjTAc8oMTCTxnEDUrmo/9E1RS6XwdrdudWtZJnsyT3cShUaHMDZ3ZMY3S+Zc3smERV6gjWJSvPgwCZzWOymOeZf9TVrXzoMNROWPpdCREK9zy2nsIx1e/LYsDef9Xvy2LS/gKjQYDrGhdMxPpwOceGkJ0TQMS6cxCinzyaYzertq2DzHHJOf4AR3/cmt7iC0X2Tef7qU2w567USlZayZT68dTlgwIVPwOAbWv41W9rO782RPLuXm7fD4uCsv8Cgyf7ZaiQtIquglLnrM/liXSY/bM+hZq7RJzWaMf1SGNMvhY5x4fySWV0Au80sgC0urz1PTPs2YZzeNYFhXRMY1iW+RRIGwzD4JbOgOmk5wPLtBymrrF2b0Sc1mtO7JXBmt0QGdmxji4UkyytdLN58gM9+2su8n/fX+tn1aBvFuJPM5OR4yWFNhmGwbk8eX6zL5It1+9h1sNjzWEhQAGd2S2RMv2RG9GpLTFg9FlIsyoGNn8C6D2HnEsDdtBMInc82W1p6Xgihh1cSz8ovZf3ePNbtzmf93jzW78ljX15pnYevS1hwIB3iwukQH344kYk3k5h2bcIaVaPlcwwDHu8GRQeYGvYwnx/qwIC0WGbeeBphIdb/v62LEpWW9N3T5iqoAUFw7aeQPtw7r9vcsjaaLSib55i3g8Nh6BQY9sdav0REGupAQRlzN5jdQ0u31U5aIp1BFJbVHm0SFxHCsC7xZqtJlwQ6xHt/ocbSiipW7jjEt1sOsHhL9lFdTqHBAZzaKZ7eKdG0axNG+9gwUmPDaNcmrNEtPPVV5TL44dccPv1xL3PWZ5JXUuF5LC0ujHEDUhk3oB09ko9ehLMhDMPg5335zKlOWn7NLvI8Fhzo4PSuCYzul8L5vdsSG16PouS8PebIyfUfwN41h88nIIRfY4fzVeAZvHOoJ7sL635654QI+raLoW+7aHqlRFNYWsnOg8XszClm10FzRfS9uSW4jvMNFhjgoF1smKcVxryOoGO8uW31XCLNJncXPN2PSgLpU/oaCbExzJoyzNbTCvhMorJ48WIee+wxVq1axb59+5g1axaXXHJJvZ9vSaJiGPDhDeaHLzwBblpgdpP4irzdZg3Kj2+b1f2OQDjlWjj7r+aMmSLNKKewjK9+3s8X6/bx/bYcqlwG4SGBDOkUx/CuCQzrkkDP5CjbNU0fKChjyVazKPfbLQfIKig75r4xYcG0q05a2sWG1d5uE0Z8REiDuyYMw2BtRi6f/riX2T/tq/X6iVFOLuqfwrgBqZyUFtsi3R6GYbB5fyFfrNvHnPX72Lz/cDYRFOBgaJd4xlQnLfF1tHgZhsHuQyWs35PH+r15ZO34mc6ZXzKy6ju6Bezx7FdghDHPNZBVkedS1vEserWPp1+7GHqlRJ242wmzhWlPbgk7corYlVM7idl1sPioVrIjJUY56RhnJjFtY0JJinKSFBVK22jzOinaaYuWtBMx1n+E44Pr+MnViQmOR/jwlmF0b9u0xLWl+UyiMmfOHJYsWcLAgQP5zW9+4xuJCpijYl4fBZk/mYVjk+dCiPf/CmyQkkPw3VPww8tQWd2s2mscjPiHqvTFKw4VlbMnt4TubaOOWQBrR+4v7e+3ZbMzp5jdh0rYm1vCntySWq0bx+IMCqiVvKQekcwkx4R6uid+yczn07V7+eynvbVGOMWEBTO6bzLjBqQypHO81ye125pVYLa0rM+s1doU4DDnrRndL4U24cFmXckeswsnt/jon01gAJwfn80VzmWcWriQyNK9hx8Mi4PeF5vdQx2GNbk2zuUyyCooY2dOUXVLzOEEZmdOcb3eO4Do0CCSomskL1FOkqLdSY2TttFmQmNl68yqV25m4N63eatqJB2vfZnTu9W/HsgqPpOo1ORwOHwnUQHIzYBXzobibLNY7LLX7FlcW1EKy18250MprZ7Eq8MwOO+fkDbY2thEfFxhWSV7qhOX3bkl7DlkJjB7q7f3F5SecJK+AAe0jQ4lJCiAnTmHa0TCQwI5r3dbxg1I5YxuibZJ7rZnFzFn/T7mrMtk3Z68Y+4XHOigR3IU/drF0Cc1hn7tYuiRHHW4hcIwIGO52Tq9YRYUHTj85KhU6Psb83dr6skt8rs1r7iCndWtLxmHisnKLyOroJSs/DL2V1+fqEWmpkhnEEnRzjpbZWLCgnE4HLjPwuEABw7PaTk8/xx9v7vFzHzO4edTvd+PGbn0mftbTg3YxLL+/8dpv/ljk34u3uK3iUpZWRllZYebQPPz80lLS7MmUQHYsQT+O86sch/5AJx+u/djOBZXFfw4ExY8dHgIYVJvGHk/dDvfnkmViJ8pr3SRmVfKnuoWGDORKWZv7uH7as71EhIYwFk9Ehk3IJURvZJsX0Phnhjwqw37qXAZ9E2Npl+7GPq2i2lYy1lVJexYbBbhbvzMHF3pFtfFTFjiu5oF/u5LoNNcvygoxLwODDnitrNJrTKGYZBfWklWfilZBWYSsz+/rFZC476vxMKFQ4OoZJ3zBsIc5TBlhbmekw/w20Tl/vvv54EHHjjqfssSFYAV/4HZdwIOmPA+dDvPmjhq2jIfvvp/5oRNANHt4dy/Q//fam0eERtxuQyyi8rYm1vKoeJyTunQpn6ja/xZZRlsmWe2tGz6EipLTvycYwkIPiKxOTLRqbF95B9vntuOY9/ncGAAlS6D0goXZZUuSitclFa6KK2oorTCoLSyigKXk4yA9uwKTCMjII0sRzyGw0yiDAMMDE/Lm4GZJLm3MTxjpzAMo8a2+byuru1ML/0ThjMax907fWY6Cb9NVGzXogLm/5bPboPVb4AzBm78BhK6WhNLbgZ8+VdzThQwl/o+40449SYItm/1t4hIncoKYdMX5hwtJYfMJKaqzLx2X6rKzLq7yvLq+jtbfKUdX3C4WRuY2BMSupuLQyb0gLhOENjARHXl6/D5Hebw72s/aZFwW0JDEhV7tysewel04nTabG4PhwPGPG5OepSxDGaOhxu+hlAvJk6V5bD0OXNmwopicyTPaTfDmXeZC4yJiPgiZyT0v9K81IdhmF3xNROXOhMb96XUXMes0v0HsHH4OHXePuK16vuckoPmd0T2ZsjZZv6e3vejeakpIBjiOpvdNwk9qhOY7ublWAM2dq8yr9sNPPHPx0f5VKJiW0EhcOV/zeLa7M3w0Y1w1TveaYL7dRF8cZf5umAWyl74BLTt3fKvLSJiJw6H2SIRGAw2+5vWo6oCDu2oTlw2mdcHNkH2FqgoMu/L3gR8VuNJDohNq528uK/3uBOVQRacjHdYmqgUFhaydetWz+3t27ezdu1a4uLi6NDBh+YmAXOhwqvegumjYfOXsOBfMOLelnu9gkyY+3ezHxfMlU3P/z+zDkWFsiIi9hQYbHb7JHQDLjp8v8sF+Xuqk5fNta+Lc8xJ3XJ3wdZ5dR/Xj1tULK1RWbhwIeecc85R90+cOJEZM2ac8PmWDk8+lh/fhVk3mdtXzDDXuGhOVZWw/BVzNE95ATgCzKn8z/m7llsXEfFHRTmHW1+yNx++zsswH0/uD3/41toYG8gni2kbw5aJCpgtHUufMwumrv/KXIG4OexaZo4w2r/evN1uIFz4JKSe1DzHFxER31FWCIe2m7Oj+9jSJw35/vaNcUy+ZuQD0Pkcs2Bq5tVmNtwURdnw8S3mbLj715sFsmOfgevnK0kREWmtnJHmH8I+lqQ0lBKVlhAYBJe/Dm3SzT7F9yeaBVQN5aqCFa/BvwfC2rfM+07+HUxdBQMn+cx4eRERkcbSN11LCY+D8TMhJBJ2fGtOwNYQe1bDf0bA7D9Baa6ZNV8/Dy5+DiLiWyRkERERu1Gi0pKSesGlL5vbP7wEa9488XNKDpmT97x6rrk0ujMaRj8KNy6EtFNbNFwRERG7UaLS0npdBGffY25/fgdkrKh7P5cL1rwF/x5kzjSIAf2uhKkrYcjvze4kERGRVkaJijec+RfoeZE5A+K710D+vtqPZ64351/55BZzNebEnjDxc7jsVXN+FhERkVZKiYo3BATApS9BYi8ozDSTlYpSKM2HL++Bl880p98PjoDz/gl/+A46nWF11CIiIpZTf4K3OKNg/NvwyjmwZ6W5JtD+n83EBaDXOLhgGsS0tzZOERERG1GLijfFdYYrppuzyW77xkxS4jrDNR/Cb/+nJEVEROQISlS8rcu55myyMWnmtPc3L4WuI62OSkRExJbU9WOFQdeZFxERETkutaiIiIiIbSlREREREdtSoiIiIiK2pURFREREbEuJioiIiNiWEhURERGxLSUqIiIiYltKVERERMS2lKiIiIiIbSlREREREdtSoiIiIiK2pURFREREbEuJioiIiNiWEhURERGxrSCrA2gKwzAAyM/PtzgSERERqS/397b7e/x4fDpRKSgoACAtLc3iSERERKShCgoKiImJOe4+DqM+6YxNuVwu9u7dS1RUFA6Hw+pwWkx+fj5paWlkZGQQHR1tdTgtrjWdr87Vf7Wm89W5+q+WOl/DMCgoKCA1NZWAgONXofh0i0pAQADt27e3OgyviY6ObhUfDLfWdL46V//Vms5X5+q/WuJ8T9SS4qZiWhEREbEtJSoiIiJiW0pUfIDT6eS+++7D6XRaHYpXtKbz1bn6r9Z0vjpX/2WH8/XpYloRERHxb2pREREREdtSoiIiIiK2pURFREREbEuJioiIiNiWEhWLTZs2jcGDBxMVFUVSUhKXXHIJmzZtOu5zZsyYgcPhqHUJDQ31UsRNc//99x8Ve8+ePY/7nPfff5+ePXsSGhpKv379+OKLL7wUbdOkp6cfda4Oh4MpU6bUub8vva+LFy9m7NixpKam4nA4+Pjjj2s9bhgG//jHP0hJSSEsLIyRI0eyZcuWEx73+eefJz09ndDQUIYMGcLy5ctb6Awa5njnW1FRwd13302/fv2IiIggNTWVa6+9lr179x73mI35LHjDid7bSZMmHRX3BRdccMLj2vG9PdG51vX5dTgcPPbYY8c8pl3f1/p815SWljJlyhTi4+OJjIzksssuY//+/cc9bmM/6w2hRMViixYtYsqUKSxbtox58+ZRUVHB+eefT1FR0XGfFx0dzb59+zyXnTt3einipuvTp0+t2L/77rtj7vv9998zfvx4rr/+etasWcMll1zCJZdcwvr1670YceOsWLGi1nnOmzcPgCuuuOKYz/GV97WoqIgBAwbw/PPP1/n4o48+yrPPPstLL73EDz/8QEREBKNGjaK0tPSYx3z33Xf505/+xH333cfq1asZMGAAo0aNIisrq6VOo96Od77FxcWsXr2ae++9l9WrV/PRRx+xadMmxo0bd8LjNuSz4C0nem8BLrjgglpxv/POO8c9pl3f2xOda81z3LdvH6+//joOh4PLLrvsuMe14/tan++aO+64g88++4z333+fRYsWsXfvXn7zm98c97iN+aw3mCG2kpWVZQDGokWLjrnP9OnTjZiYGO8F1Yzuu+8+Y8CAAfXe/8orrzQuvPDCWvcNGTLE+P3vf9/MkbW82267zejSpYvhcrnqfNxX31fAmDVrlue2y+UykpOTjccee8xzX25uruF0Oo133nnnmMc59dRTjSlTpnhuV1VVGampqca0adNaJO7GOvJ867J8+XIDMHbu3HnMfRr6WbBCXec6ceJE4+KLL27QcXzhva3P+3rxxRcb55577nH38YX31TCO/q7Jzc01goODjffff9+zz8aNGw3AWLp0aZ3HaOxnvaHUomIzeXl5AMTFxR13v8LCQjp27EhaWhoXX3wxGzZs8EZ4zWLLli2kpqbSuXNnJkyYwK5du46579KlSxk5cmSt+0aNGsXSpUtbOsxmVV5ezptvvsnkyZOPu4CmL7+vbtu3byczM7PW+xYTE8OQIUOO+b6Vl5ezatWqWs8JCAhg5MiRPvdeg/k5djgcxMbGHne/hnwW7GThwoUkJSXRo0cPbr75ZnJyco65r7+8t/v372f27Nlcf/31J9zXF97XI79rVq1aRUVFRa33qWfPnnTo0OGY71NjPuuNoUTFRlwuF7fffjvDhw+nb9++x9yvR48evP7663zyySe8+eabuFwuhg0bxu7du70YbeMMGTKEGTNm8OWXX/Liiy+yfft2zjjjDAoKCurcPzMzk7Zt29a6r23btmRmZnoj3Gbz8ccfk5uby6RJk465jy+/rzW535uGvG/Z2dlUVVX5xXtdWlrK3Xffzfjx44+7iFtDPwt2ccEFF/Df//6Xr7/+mkceeYRFixYxevRoqqqq6tzfX97bN954g6ioqBN2hfjC+1rXd01mZiYhISFHJdfHe58a81lvDJ9ePdnfTJkyhfXr15+wP3Po0KEMHTrUc3vYsGH06tWLl19+mQcffLClw2yS0aNHe7b79+/PkCFD6NixI++99169/lLxVa+99hqjR48mNTX1mPv48vsqpoqKCq688koMw+DFF1887r6++lm46qqrPNv9+vWjf//+dOnShYULFzJixAgLI2tZr7/+OhMmTDhhgbsvvK/1/a6xC7Wo2MTUqVP5/PPPWbBgAe3bt2/Qc4ODgzn55JPZunVrC0XXcmJjY+nevfsxY09OTj6q6nz//v0kJyd7I7xmsXPnTubPn88NN9zQoOf56vvqfm8a8r4lJCQQGBjo0++1O0nZuXMn8+bNO25rSl1O9Fmwq86dO5OQkHDMuP3hvf3222/ZtGlTgz/DYL/39VjfNcnJyZSXl5Obm1tr/+O9T435rDeGEhWLGYbB1KlTmTVrFt988w2dOnVq8DGqqqpYt24dKSkpLRBhyyosLGTbtm3HjH3o0KF8/fXXte6bN29erZYHu5s+fTpJSUlceOGFDXqer76vnTp1Ijk5udb7lp+fzw8//HDM9y0kJISBAwfWeo7L5eLrr7/2iffanaRs2bKF+fPnEx8f3+BjnOizYFe7d+8mJyfnmHH7+nsLZovowIEDGTBgQIOfa5f39UTfNQMHDiQ4OLjW+7Rp0yZ27dp1zPepMZ/1xgYvFrr55puNmJgYY+HChca+ffs8l+LiYs8+v/vd74y//vWvntsPPPCAMXfuXGPbtm3GqlWrjKuuusoIDQ01NmzYYMUpNMidd95pLFy40Ni+fbuxZMkSY+TIkUZCQoKRlZVlGMbR57pkyRIjKCjIePzxx42NGzca9913nxEcHGysW7fOqlNokKqqKqNDhw7G3XfffdRjvvy+FhQUGGvWrDHWrFljAMaTTz5prFmzxjPK5eGHHzZiY2ONTz75xPjpp5+Miy++2OjUqZNRUlLiOca5555r/Pvf//bcnjlzpuF0Oo0ZM2YYP//8s3HTTTcZsbGxRmZmptfP70jHO9/y8nJj3LhxRvv27Y21a9fW+hyXlZV5jnHk+Z7os2CV451rQUGBcddddxlLly41tm/fbsyfP9845ZRTjG7duhmlpaWeY/jKe3ui/8eGYRh5eXlGeHi48eKLL9Z5DF95X+vzXfOHP/zB6NChg/HNN98YK1euNIYOHWoMHTq01nF69OhhfPTRR57b9fmsN5USFYsBdV6mT5/u2eess84yJk6c6Ll9++23Gx06dDBCQkKMtm3bGmPGjDFWr17t/eAb4be//a2RkpJihISEGO3atTN++9vfGlu3bvU8fuS5GoZhvPfee0b37t2NkJAQo0+fPsbs2bO9HHXjzZ071wCMTZs2HfWYL7+vCxYsqPP/rft8XC6Xce+99xpt27Y1nE6nMWLEiKN+Bh07djTuu+++Wvf9+9//9vwMTj31VGPZsmVeOqPjO975bt++/Zif4wULFniOceT5nuizYJXjnWtxcbFx/vnnG4mJiUZwcLDRsWNH48Ybbzwq4fCV9/ZE/48NwzBefvllIywszMjNza3zGL7yvtbnu6akpMS45ZZbjDZt2hjh4eHGpZdeauzbt++o49R8Tn0+603lqH5hEREREdtRjYqIiIjYlhIVERERsS0lKiIiImJbSlRERETEtpSoiIiIiG0pURERERHbUqIiIiIitqVERUT8ysKFC3E4HEetWSIivkmJioiIiNiWEhURERGxLSUqItKsXC4X06ZNo1OnToSFhTFgwAA++OAD4HC3zOzZs+nfvz+hoaGcdtpprF+/vtYxPvzwQ/r06YPT6SQ9PZ0nnnii1uNlZWXcfffdpKWl4XQ66dq1K6+99lqtfVatWsWgQYMIDw9n2LBhbNq0qWVPXERahBIVEWlW06ZN47///S8vvfQSGzZs4I477uCaa65h0aJFnn3+/Oc/88QTT7BixQoSExMZO3YsFRUVgJlgXHnllVx11VWsW7eO+++/n3vvvZcZM2Z4nn/ttdfyzjvv8Oyzz7Jx40ZefvllIiMja8Xx97//nSeeeIKVK1cSFBTE5MmTvXL+ItLMmnWJQxFp1UpLS43w8HDj+++/r3X/9ddfb4wfP96zWu3MmTM9j+Xk5BhhYWHGu+++axiGYVx99dXGeeedV+v5f/7zn43evXsbhmEYmzZtMgBj3rx5dcbgfo358+d77ps9e7YBNOvS8yLiHWpREZFms3XrVoqLiznvvPOIjIz0XP773/+ybds2z35Dhw71bMfFxdGjRw82btwIwMaNGxk+fHit4w4fPpwtW7ZQVVXF2rVrCQwM5KyzzjpuLP379/dsp6SkAJCVldXkcxQR7wqyOgAR8R+FhYUAzJ49m3bt2tV6zOl01kpWGissLKxe+wUHB3u2HQ4HYNbPiIhvUYuKiDSb3r1743Q62bVrF127dq11SUtL8+y3bNkyz/ahQ4fYvHkzvXr1AqBXr14sWbKk1nGXLFlC9+7dCQwMpF+/frhcrlo1LyLiv9SiIiLNJioqirvuuos77rgDl8vF6aefTl5eHkuWLCE6OpqOHTsC8M9//pP4+Hjatm3L3//+dxISErjkkksAuPPOOxk8eDAPPvggv/3tb1m6dCnPPfccL7zwAgDp6elMnDiRyZMn8+yzzzJgwAB27txJVlYWV155pVWnLiItRImKiDSrBx98kMTERKZNm8avv/5KbGwsp5xyCn/72988XS8PP/wwt912G1u2bOGkk07is88+IyQkBIBTTjmF9957j3/84x88+OCDpKSk8M9//pNJkyZ5XuPFF1/kb3/7G7fccgs5OTl06NCBv/3tb1acroi0MIdhGIbVQYhI67Bw4ULOOeccDh06RGxsrNXhiIgPUI2KiIiI2JYSFREREbEtdf2IiIiIbalFRURERGxLiYqIiIjYlhIVERERsS0lKiIiImJbSlRERETEtpSoiIiIiG0pURERERHbUqIiIiIitqVERURERGzr/wPdvLLv9qPbtgAAAABJRU5ErkJggg==",
      "text/plain": [
       "<Figure size 640x480 with 1 Axes>"
      ]
     },
     "metadata": {},
     "output_type": "display_data"
    }
   ],
   "source": [
    "plot_learningcurve(history,20)"
   ]
  }
 ],
 "metadata": {
  "kernelspec": {
   "display_name": "Python 3",
   "language": "python",
   "name": "python3"
  },
  "language_info": {
   "codemirror_mode": {
    "name": "ipython",
    "version": 3
   },
   "file_extension": ".py",
   "mimetype": "text/x-python",
   "name": "python",
   "nbconvert_exporter": "python",
   "pygments_lexer": "ipython3",
   "version": "3.9.18"
  },
  "orig_nbformat": 4
 },
 "nbformat": 4,
 "nbformat_minor": 2
}
